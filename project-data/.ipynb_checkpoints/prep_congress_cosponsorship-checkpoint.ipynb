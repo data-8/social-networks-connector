{
 "cells": [
  {
   "cell_type": "code",
   "execution_count": 3,
   "metadata": {
    "collapsed": true
   },
   "outputs": [],
   "source": [
    "import networkx as nx\n",
    "from pickle import *\n",
    "import numpy as np\n",
    "import pandas as pd\n",
    "from pandas.io.json import json_normalize\n",
    "import json\n",
    "import yaml\n",
    "\n",
    "from datascience import *"
   ]
  },
  {
   "cell_type": "markdown",
   "metadata": {},
   "source": [
    "## Overview: bill cosponsorship in the 114th Congress"
   ]
  },
  {
   "cell_type": "markdown",
   "metadata": {},
   "source": [
    "Members of congress collaborate by writing and sponsoring legislation together.  This dataset describes which MOC collaborated on by sponsoring bills; it comes from Francois Briatte's [congress](https://github.com/briatte/congress/) repository. I've run his R code and selected only the subset of the data that pertains to the most recent congress, but there is a lot more information in the original repo.\n",
    "\n",
    "Be sure to look at the [README](https://github.com/briatte/congress/blob/master/README.md) file from the original repository; it has some additional information.\n",
    "\n",
    "The US legislature has two chambers: the House of Representatives and the Senate. For each chamber, there are two datasets: one dataset contains information about the MOC, and one dataset contains edges from the bill cosponsorship network.\n",
    "\n",
    "You could explore enriching these data by linking them with information about the legislators (see `prep_moc.ipynb`), information about the legislators' districts, or other information.\n",
    "\n",
    "If you have questions or figure something interesting out about the dataset, tell us all about it on Piazza!"
   ]
  },
  {
   "cell_type": "markdown",
   "metadata": {},
   "source": [
    "### Senate"
   ]
  },
  {
   "cell_type": "code",
   "execution_count": 8,
   "metadata": {
    "collapsed": false
   },
   "outputs": [],
   "source": [
    "fn = 'bill_cosponsorship/congress/senate_detailed_edge_list.csv'\n",
    "senate_el = Table().read_table(fn)"
   ]
  },
  {
   "cell_type": "markdown",
   "metadata": {},
   "source": [
    "The edgelist has five columns:\n",
    "\n",
    "* i - one of the MOC cosponsoring legislation\n",
    "* j - the second MOC cosponsoring legislation\n",
    "* raw - the raw number of bills cosponsored\n",
    "* nfw - Newman-Fowler weights\n",
    "* gsw - Gross-Shalizi weights\n",
    "\n",
    "The two types of weight edge represent two different ways of aggregating cosponsorship information. If you are curious, you can see the file `02-build.r` in the original repository for more information on how these were constructed. Note that these weights are not symmetric; that is, the weight for i->j is different from the weight for j->i. If you want to use these weights, you will have to decide what to do about this asymmetry."
   ]
  },
  {
   "cell_type": "code",
   "execution_count": 9,
   "metadata": {
    "collapsed": false
   },
   "outputs": [
    {
     "data": {
      "text/html": [
       "<table border=\"1\" class=\"dataframe\">\n",
       "    <thead>\n",
       "        <tr>\n",
       "            <th>i</th> <th>j</th> <th>raw</th> <th>nfw</th> <th>gsw</th>\n",
       "        </tr>\n",
       "    </thead>\n",
       "    <tbody>\n",
       "        <tr>\n",
       "            <td>Bill Nelson          </td> <td>Alan Stuart Franken</td> <td>1   </td> <td>0.0909091</td> <td>0.00584783</td>\n",
       "        </tr>\n",
       "    </tbody>\n",
       "        <tr>\n",
       "            <td>Gary C. Peters       </td> <td>Alan Stuart Franken</td> <td>2   </td> <td>0.0556402</td> <td>0.00357912</td>\n",
       "        </tr>\n",
       "    </tbody>\n",
       "        <tr>\n",
       "            <td>Christopher S. Murphy</td> <td>Alan Stuart Franken</td> <td>4   </td> <td>0.706208 </td> <td>0.0454276 </td>\n",
       "        </tr>\n",
       "    </tbody>\n",
       "        <tr>\n",
       "            <td>Roy Blunt            </td> <td>Alan Stuart Franken</td> <td>1   </td> <td>0.03125  </td> <td>0.00201019</td>\n",
       "        </tr>\n",
       "    </tbody>\n",
       "        <tr>\n",
       "            <td>Dianne Feinstein     </td> <td>Alan Stuart Franken</td> <td>4   </td> <td>0.422307 </td> <td>0.0271654 </td>\n",
       "        </tr>\n",
       "    </tbody>\n",
       "        <tr>\n",
       "            <td>Ron Wyden            </td> <td>Alan Stuart Franken</td> <td>6   </td> <td>1.43822  </td> <td>0.0925148 </td>\n",
       "        </tr>\n",
       "    </tbody>\n",
       "        <tr>\n",
       "            <td>Robert P. Casey Jr.  </td> <td>Alan Stuart Franken</td> <td>4   </td> <td>0.656966 </td> <td>0.0422601 </td>\n",
       "        </tr>\n",
       "    </tbody>\n",
       "        <tr>\n",
       "            <td>Sherrod Brown        </td> <td>Alan Stuart Franken</td> <td>10  </td> <td>1.52913  </td> <td>0.0983626 </td>\n",
       "        </tr>\n",
       "    </tbody>\n",
       "        <tr>\n",
       "            <td>Richard Blumenthal   </td> <td>Alan Stuart Franken</td> <td>5   </td> <td>0.347307 </td> <td>0.0223409 </td>\n",
       "        </tr>\n",
       "    </tbody>\n",
       "        <tr>\n",
       "            <td>Michael F. Bennet    </td> <td>Alan Stuart Franken</td> <td>2   </td> <td>1.02439  </td> <td>0.065895  </td>\n",
       "        </tr>\n",
       "    </tbody>\n",
       "</table>\n",
       "<p>... (6925 rows omitted)</p"
      ],
      "text/plain": [
       "i                     | j                   | raw  | nfw       | gsw\n",
       "Bill Nelson           | Alan Stuart Franken | 1    | 0.0909091 | 0.00584783\n",
       "Gary C. Peters        | Alan Stuart Franken | 2    | 0.0556402 | 0.00357912\n",
       "Christopher S. Murphy | Alan Stuart Franken | 4    | 0.706208  | 0.0454276\n",
       "Roy Blunt             | Alan Stuart Franken | 1    | 0.03125   | 0.00201019\n",
       "Dianne Feinstein      | Alan Stuart Franken | 4    | 0.422307  | 0.0271654\n",
       "Ron Wyden             | Alan Stuart Franken | 6    | 1.43822   | 0.0925148\n",
       "Robert P. Casey Jr.   | Alan Stuart Franken | 4    | 0.656966  | 0.0422601\n",
       "Sherrod Brown         | Alan Stuart Franken | 10   | 1.52913   | 0.0983626\n",
       "Richard Blumenthal    | Alan Stuart Franken | 5    | 0.347307  | 0.0223409\n",
       "Michael F. Bennet     | Alan Stuart Franken | 2    | 1.02439   | 0.065895\n",
       "... (6925 rows omitted)"
      ]
     },
     "execution_count": 9,
     "metadata": {},
     "output_type": "execute_result"
    }
   ],
   "source": [
    "senate_el"
   ]
  },
  {
   "cell_type": "code",
   "execution_count": 10,
   "metadata": {
    "collapsed": true
   },
   "outputs": [],
   "source": [
    "fn = 'bill_cosponsorship/congress/senate_data.csv'\n",
    "senate_dat = Table().read_table(fn)"
   ]
  },
  {
   "cell_type": "code",
   "execution_count": 11,
   "metadata": {
    "collapsed": false
   },
   "outputs": [
    {
     "data": {
      "text/html": [
       "<table border=\"1\" class=\"dataframe\">\n",
       "    <thead>\n",
       "        <tr>\n",
       "            <th>born</th> <th>district</th> <th>icpsr</th> <th>n_au</th> <th>n_bills</th> <th>n_co</th> <th>na</th> <th>nyears</th> <th>party</th> <th>sex</th> <th>state</th> <th>thomas</th> <th>vertex.names</th> <th>node_id</th>\n",
       "        </tr>\n",
       "    </thead>\n",
       "    <tbody>\n",
       "        <tr>\n",
       "            <td>1951</td> <td>nan     </td> <td>40904</td> <td>31  </td> <td>439    </td> <td>408 </td> <td>False</td> <td>6     </td> <td>DEM  </td> <td>M   </td> <td>MN   </td> <td>1969  </td> <td>Alan Stuart Franken</td> <td>1      </td>\n",
       "        </tr>\n",
       "    </tbody>\n",
       "        <tr>\n",
       "            <td>1960</td> <td>nan     </td> <td>40700</td> <td>61  </td> <td>429    </td> <td>368 </td> <td>False</td> <td>6     </td> <td>DEM  </td> <td>F   </td> <td>MN   </td> <td>1826  </td> <td>Amy Jean Klobuchar </td> <td>2      </td>\n",
       "        </tr>\n",
       "    </tbody>\n",
       "        <tr>\n",
       "            <td>1944</td> <td>nan     </td> <td>41300</td> <td>17  </td> <td>263    </td> <td>246 </td> <td>False</td> <td>0     </td> <td>IND  </td> <td>M   </td> <td>ME   </td> <td>2185  </td> <td>Angus King         </td> <td>3      </td>\n",
       "        </tr>\n",
       "    </tbody>\n",
       "        <tr>\n",
       "            <td>1936</td> <td>nan     </td> <td>14440</td> <td>12  </td> <td>275    </td> <td>263 </td> <td>False</td> <td>24    </td> <td>DEM  </td> <td>F   </td> <td>MD   </td> <td>802   </td> <td>Barbara A. Mikulski</td> <td>4      </td>\n",
       "        </tr>\n",
       "    </tbody>\n",
       "        <tr>\n",
       "            <td>1940</td> <td>nan     </td> <td>15011</td> <td>37  </td> <td>385    </td> <td>348 </td> <td>False</td> <td>18    </td> <td>DEM  </td> <td>F   </td> <td>CA   </td> <td>116   </td> <td>Barbara Boxer      </td> <td>5      </td>\n",
       "        </tr>\n",
       "    </tbody>\n",
       "        <tr>\n",
       "            <td>1972</td> <td>nan     </td> <td>nan  </td> <td>5   </td> <td>91     </td> <td>86  </td> <td>False</td> <td>0     </td> <td>REP  </td> <td>M   </td> <td>NE   </td> <td>2289  </td> <td>Benjamin Eric Sasse</td> <td>6      </td>\n",
       "        </tr>\n",
       "    </tbody>\n",
       "        <tr>\n",
       "            <td>1943</td> <td>nan     </td> <td>15408</td> <td>61  </td> <td>328    </td> <td>267 </td> <td>False</td> <td>6     </td> <td>DEM  </td> <td>M   </td> <td>MD   </td> <td>174   </td> <td>Benjamin L. Cardin </td> <td>7      </td>\n",
       "        </tr>\n",
       "    </tbody>\n",
       "        <tr>\n",
       "            <td>1941</td> <td>nan     </td> <td>29147</td> <td>18  </td> <td>235    </td> <td>217 </td> <td>False</td> <td>6     </td> <td>IND  </td> <td>M   </td> <td>VT   </td> <td>1010  </td> <td>Bernard Sanders    </td> <td>8      </td>\n",
       "        </tr>\n",
       "    </tbody>\n",
       "        <tr>\n",
       "            <td>1957</td> <td>nan     </td> <td>20919</td> <td>32  </td> <td>189    </td> <td>157 </td> <td>False</td> <td>0     </td> <td>REP  </td> <td>M   </td> <td>LA   </td> <td>1925  </td> <td>Bill Cassidy       </td> <td>9      </td>\n",
       "        </tr>\n",
       "    </tbody>\n",
       "        <tr>\n",
       "            <td>1942</td> <td>nan     </td> <td>14651</td> <td>37  </td> <td>222    </td> <td>185 </td> <td>False</td> <td>12    </td> <td>DEM  </td> <td>M   </td> <td>FL   </td> <td>859   </td> <td>Bill Nelson        </td> <td>10     </td>\n",
       "        </tr>\n",
       "    </tbody>\n",
       "</table>\n",
       "<p>... (90 rows omitted)</p"
      ],
      "text/plain": [
       "born | district | icpsr | n_au | n_bills | n_co | na    | nyears | party | sex  | state | thomas | vertex.names        | node_id\n",
       "1951 | nan      | 40904 | 31   | 439     | 408  | False | 6      | DEM   | M    | MN    | 1969   | Alan Stuart Franken | 1\n",
       "1960 | nan      | 40700 | 61   | 429     | 368  | False | 6      | DEM   | F    | MN    | 1826   | Amy Jean Klobuchar  | 2\n",
       "1944 | nan      | 41300 | 17   | 263     | 246  | False | 0      | IND   | M    | ME    | 2185   | Angus King          | 3\n",
       "1936 | nan      | 14440 | 12   | 275     | 263  | False | 24     | DEM   | F    | MD    | 802    | Barbara A. Mikulski | 4\n",
       "1940 | nan      | 15011 | 37   | 385     | 348  | False | 18     | DEM   | F    | CA    | 116    | Barbara Boxer       | 5\n",
       "1972 | nan      | nan   | 5    | 91      | 86   | False | 0      | REP   | M    | NE    | 2289   | Benjamin Eric Sasse | 6\n",
       "1943 | nan      | 15408 | 61   | 328     | 267  | False | 6      | DEM   | M    | MD    | 174    | Benjamin L. Cardin  | 7\n",
       "1941 | nan      | 29147 | 18   | 235     | 217  | False | 6      | IND   | M    | VT    | 1010   | Bernard Sanders     | 8\n",
       "1957 | nan      | 20919 | 32   | 189     | 157  | False | 0      | REP   | M    | LA    | 1925   | Bill Cassidy        | 9\n",
       "1942 | nan      | 14651 | 37   | 222     | 185  | False | 12     | DEM   | M    | FL    | 859    | Bill Nelson         | 10\n",
       "... (90 rows omitted)"
      ]
     },
     "execution_count": 11,
     "metadata": {},
     "output_type": "execute_result"
    }
   ],
   "source": [
    "senate_dat"
   ]
  },
  {
   "cell_type": "code",
   "execution_count": null,
   "metadata": {
    "collapsed": true
   },
   "outputs": [],
   "source": []
  },
  {
   "cell_type": "markdown",
   "metadata": {},
   "source": [
    "### 114th House of Representatives"
   ]
  },
  {
   "cell_type": "code",
   "execution_count": 15,
   "metadata": {
    "collapsed": false
   },
   "outputs": [],
   "source": [
    "fn = 'bill_cosponsorship/congress/house_detailed_edge_list.csv'\n",
    "house_el = Table().read_table(fn)"
   ]
  },
  {
   "cell_type": "code",
   "execution_count": 16,
   "metadata": {
    "collapsed": false
   },
   "outputs": [
    {
     "data": {
      "text/html": [
       "<table border=\"1\" class=\"dataframe\">\n",
       "    <thead>\n",
       "        <tr>\n",
       "            <th>i</th> <th>j</th> <th>raw</th> <th>nfw</th> <th>gsw</th>\n",
       "        </tr>\n",
       "    </thead>\n",
       "    <tbody>\n",
       "        <tr>\n",
       "            <td>Jared Polis       </td> <td>Aaron Schock</td> <td>1   </td> <td>0.0131579</td> <td>0.0308554</td>\n",
       "        </tr>\n",
       "    </tbody>\n",
       "        <tr>\n",
       "            <td>Cheri Bustos      </td> <td>Aaron Schock</td> <td>1   </td> <td>0.0131579</td> <td>0.0308554</td>\n",
       "        </tr>\n",
       "    </tbody>\n",
       "        <tr>\n",
       "            <td>Joseph Crowley    </td> <td>Aaron Schock</td> <td>1   </td> <td>0.0243902</td> <td>0.0571954</td>\n",
       "        </tr>\n",
       "    </tbody>\n",
       "        <tr>\n",
       "            <td>Frank D. Lucas    </td> <td>Aaron Schock</td> <td>1   </td> <td>0.0131579</td> <td>0.0308554</td>\n",
       "        </tr>\n",
       "    </tbody>\n",
       "        <tr>\n",
       "            <td>Keith J. Rothfus  </td> <td>Aaron Schock</td> <td>2   </td> <td>0.0375481</td> <td>0.0880508</td>\n",
       "        </tr>\n",
       "    </tbody>\n",
       "        <tr>\n",
       "            <td>Richard E. Neal   </td> <td>Aaron Schock</td> <td>1   </td> <td>0.0131579</td> <td>0.0308554</td>\n",
       "        </tr>\n",
       "    </tbody>\n",
       "        <tr>\n",
       "            <td>Hakeem S. Jeffries</td> <td>Aaron Schock</td> <td>1   </td> <td>0.0243902</td> <td>0.0571954</td>\n",
       "        </tr>\n",
       "    </tbody>\n",
       "        <tr>\n",
       "            <td>Tom McClintock    </td> <td>Aaron Schock</td> <td>1   </td> <td>0.0243902</td> <td>0.0571954</td>\n",
       "        </tr>\n",
       "    </tbody>\n",
       "        <tr>\n",
       "            <td>Paul Tonko        </td> <td>Aaron Schock</td> <td>1   </td> <td>0.0555556</td> <td>0.130278 </td>\n",
       "        </tr>\n",
       "    </tbody>\n",
       "        <tr>\n",
       "            <td>Ami Bera          </td> <td>Aaron Schock</td> <td>1   </td> <td>0.0131579</td> <td>0.0308554</td>\n",
       "        </tr>\n",
       "    </tbody>\n",
       "</table>\n",
       "<p>... (63247 rows omitted)</p"
      ],
      "text/plain": [
       "i                  | j            | raw  | nfw       | gsw\n",
       "Jared Polis        | Aaron Schock | 1    | 0.0131579 | 0.0308554\n",
       "Cheri Bustos       | Aaron Schock | 1    | 0.0131579 | 0.0308554\n",
       "Joseph Crowley     | Aaron Schock | 1    | 0.0243902 | 0.0571954\n",
       "Frank D. Lucas     | Aaron Schock | 1    | 0.0131579 | 0.0308554\n",
       "Keith J. Rothfus   | Aaron Schock | 2    | 0.0375481 | 0.0880508\n",
       "Richard E. Neal    | Aaron Schock | 1    | 0.0131579 | 0.0308554\n",
       "Hakeem S. Jeffries | Aaron Schock | 1    | 0.0243902 | 0.0571954\n",
       "Tom McClintock     | Aaron Schock | 1    | 0.0243902 | 0.0571954\n",
       "Paul Tonko         | Aaron Schock | 1    | 0.0555556 | 0.130278\n",
       "Ami Bera           | Aaron Schock | 1    | 0.0131579 | 0.0308554\n",
       "... (63247 rows omitted)"
      ]
     },
     "execution_count": 16,
     "metadata": {},
     "output_type": "execute_result"
    }
   ],
   "source": [
    "house_el"
   ]
  },
  {
   "cell_type": "code",
   "execution_count": 17,
   "metadata": {
    "collapsed": true
   },
   "outputs": [],
   "source": [
    "fn = 'bill_cosponsorship/congress/house_data.csv'\n",
    "house_dat = Table().read_table(fn)"
   ]
  },
  {
   "cell_type": "code",
   "execution_count": 18,
   "metadata": {
    "collapsed": false
   },
   "outputs": [
    {
     "data": {
      "text/html": [
       "<table border=\"1\" class=\"dataframe\">\n",
       "    <thead>\n",
       "        <tr>\n",
       "            <th>born</th> <th>district</th> <th>icpsr</th> <th>n_au</th> <th>n_bills</th> <th>n_co</th> <th>na</th> <th>nyears</th> <th>party</th> <th>sex</th> <th>state</th> <th>thomas</th> <th>vertex.names</th> <th>node_id</th>\n",
       "        </tr>\n",
       "    </thead>\n",
       "    <tbody>\n",
       "        <tr>\n",
       "            <td>1981</td> <td>18      </td> <td>20914</td> <td>4   </td> <td>62     </td> <td>58  </td> <td>False</td> <td>6     </td> <td>REP  </td> <td>M   </td> <td>IL   </td> <td>1920  </td> <td>Aaron Schock     </td> <td>1      </td>\n",
       "        </tr>\n",
       "    </tbody>\n",
       "        <tr>\n",
       "            <td>1960</td> <td>28      </td> <td>20104</td> <td>7   </td> <td>381    </td> <td>374 </td> <td>False</td> <td>14    </td> <td>DEM  </td> <td>M   </td> <td>CA   </td> <td>1635  </td> <td>Adam B. Schiff   </td> <td>2      </td>\n",
       "        </tr>\n",
       "    </tbody>\n",
       "        <tr>\n",
       "            <td>1978</td> <td>16      </td> <td>21128</td> <td>17  </td> <td>230    </td> <td>213 </td> <td>False</td> <td>4     </td> <td>REP  </td> <td>M   </td> <td>IL   </td> <td>2014  </td> <td>Adam Kinzinger   </td> <td>3      </td>\n",
       "        </tr>\n",
       "    </tbody>\n",
       "        <tr>\n",
       "            <td>1965</td> <td>9       </td> <td>29768</td> <td>7   </td> <td>307    </td> <td>300 </td> <td>False</td> <td>18    </td> <td>DEM  </td> <td>M   </td> <td>WA   </td> <td>1528  </td> <td>Adam Smith       </td> <td>4      </td>\n",
       "        </tr>\n",
       "    </tbody>\n",
       "        <tr>\n",
       "            <td>1970</td> <td>3       </td> <td>20729</td> <td>9   </td> <td>128    </td> <td>119 </td> <td>False</td> <td>8     </td> <td>REP  </td> <td>M   </td> <td>NE   </td> <td>1860  </td> <td>Adrian Smith     </td> <td>5      </td>\n",
       "        </tr>\n",
       "    </tbody>\n",
       "        <tr>\n",
       "            <td>1947</td> <td>9       </td> <td>20529</td> <td>26  </td> <td>249    </td> <td>223 </td> <td>False</td> <td>10    </td> <td>DEM  </td> <td>M   </td> <td>TX   </td> <td>1803  </td> <td>Al Green         </td> <td>6      </td>\n",
       "        </tr>\n",
       "    </tbody>\n",
       "        <tr>\n",
       "            <td>1958</td> <td>9       </td> <td>20908</td> <td>12  </td> <td>362    </td> <td>350 </td> <td>False</td> <td>6     </td> <td>DEM  </td> <td>M   </td> <td>FL   </td> <td>1914  </td> <td>Alan Grayson     </td> <td>7      </td>\n",
       "        </tr>\n",
       "    </tbody>\n",
       "        <tr>\n",
       "            <td>1958</td> <td>1       </td> <td>21147</td> <td>0   </td> <td>28     </td> <td>28  </td> <td>False</td> <td>4     </td> <td>REP  </td> <td>M   </td> <td>MS   </td> <td>2034  </td> <td>Alan Nunnelee    </td> <td>8      </td>\n",
       "        </tr>\n",
       "    </tbody>\n",
       "        <tr>\n",
       "            <td>1941</td> <td>47      </td> <td>21313</td> <td>15  </td> <td>596    </td> <td>581 </td> <td>False</td> <td>2     </td> <td>DEM  </td> <td>M   </td> <td>CA   </td> <td>2111  </td> <td>Alan S. Lowenthal</td> <td>9      </td>\n",
       "        </tr>\n",
       "    </tbody>\n",
       "        <tr>\n",
       "            <td>1951</td> <td>8       </td> <td>20542</td> <td>10  </td> <td>303    </td> <td>293 </td> <td>False</td> <td>9     </td> <td>DEM  </td> <td>M   </td> <td>NJ   </td> <td>1818  </td> <td>Albio Sires      </td> <td>10     </td>\n",
       "        </tr>\n",
       "    </tbody>\n",
       "</table>\n",
       "<p>... (434 rows omitted)</p"
      ],
      "text/plain": [
       "born | district | icpsr | n_au | n_bills | n_co | na    | nyears | party | sex  | state | thomas | vertex.names      | node_id\n",
       "1981 | 18       | 20914 | 4    | 62      | 58   | False | 6      | REP   | M    | IL    | 1920   | Aaron Schock      | 1\n",
       "1960 | 28       | 20104 | 7    | 381     | 374  | False | 14     | DEM   | M    | CA    | 1635   | Adam B. Schiff    | 2\n",
       "1978 | 16       | 21128 | 17   | 230     | 213  | False | 4      | REP   | M    | IL    | 2014   | Adam Kinzinger    | 3\n",
       "1965 | 9        | 29768 | 7    | 307     | 300  | False | 18     | DEM   | M    | WA    | 1528   | Adam Smith        | 4\n",
       "1970 | 3        | 20729 | 9    | 128     | 119  | False | 8      | REP   | M    | NE    | 1860   | Adrian Smith      | 5\n",
       "1947 | 9        | 20529 | 26   | 249     | 223  | False | 10     | DEM   | M    | TX    | 1803   | Al Green          | 6\n",
       "1958 | 9        | 20908 | 12   | 362     | 350  | False | 6      | DEM   | M    | FL    | 1914   | Alan Grayson      | 7\n",
       "1958 | 1        | 21147 | 0    | 28      | 28   | False | 4      | REP   | M    | MS    | 2034   | Alan Nunnelee     | 8\n",
       "1941 | 47       | 21313 | 15   | 596     | 581  | False | 2      | DEM   | M    | CA    | 2111   | Alan S. Lowenthal | 9\n",
       "1951 | 8        | 20542 | 10   | 303     | 293  | False | 9      | DEM   | M    | NJ    | 1818   | Albio Sires       | 10\n",
       "... (434 rows omitted)"
      ]
     },
     "execution_count": 18,
     "metadata": {},
     "output_type": "execute_result"
    }
   ],
   "source": [
    "house_dat"
   ]
  },
  {
   "cell_type": "code",
   "execution_count": null,
   "metadata": {
    "collapsed": true
   },
   "outputs": [],
   "source": []
  }
 ],
 "metadata": {
  "kernelspec": {
   "display_name": "Python 3",
   "language": "python",
   "name": "python3"
  },
  "language_info": {
   "codemirror_mode": {
    "name": "ipython",
    "version": 3
   },
   "file_extension": ".py",
   "mimetype": "text/x-python",
   "name": "python",
   "nbconvert_exporter": "python",
   "pygments_lexer": "ipython3",
   "version": "3.5.2"
  }
 },
 "nbformat": 4,
 "nbformat_minor": 1
}
