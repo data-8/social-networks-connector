{
 "cells": [
  {
   "cell_type": "code",
   "execution_count": 1,
   "metadata": {
    "collapsed": true
   },
   "outputs": [],
   "source": [
    "import networkx as nx\n",
    "from pickle import *\n",
    "import numpy as np\n",
    "import pandas as pd\n",
    "from pandas.io.json import json_normalize\n",
    "import json\n",
    "import yaml\n",
    "from datascience import *"
   ]
  },
  {
   "cell_type": "markdown",
   "metadata": {},
   "source": [
    "## Overview: large dollar Super PAC donors"
   ]
  },
  {
   "cell_type": "markdown",
   "metadata": {},
   "source": [
    "The data come from [this repository](https://github.com/USATODAY/data/tree/master/082016-superpac-megadonors), which was collected by people at USA Today, based data submitted to the Federal Elections Commission. It contains information about people and organizations who have donated at least $1 million to a PAC. It was the basis for some of the paper's [coverage](http://www.usatoday.com/story/news/politics/elections/2016/2016/09/21/usa-today-analysis-super-pac-donations-surge-past-1-billion/90790546/) this election cycle.\n",
    "\n",
    "See the [repository](https://github.com/USATODAY/data/tree/master/082016-superpac-megadonors) for a description of the columns of the dataset.\n",
    "\n",
    "If you have questions or figure something interesting out about the dataset, tell us all about it on Piazza!"
   ]
  },
  {
   "cell_type": "code",
   "execution_count": 2,
   "metadata": {
    "collapsed": false
   },
   "outputs": [],
   "source": [
    "fn = 'super_pacs/USATODAY/data/082016-superpac-megadonors/megadonor_contributions.csv'\n",
    "super_pacs = Table().read_table(fn)"
   ]
  },
  {
   "cell_type": "code",
   "execution_count": 3,
   "metadata": {
    "collapsed": false
   },
   "outputs": [
    {
     "data": {
      "text/html": [
       "<table border=\"1\" class=\"dataframe\">\n",
       "    <thead>\n",
       "        <tr>\n",
       "            <th>CommID</th> <th>Committee</th> <th>PAC_view</th> <th>Supports</th> <th>ContDt</th> <th>ContAmt</th> <th>LinkedDonorID</th> <th>LinkedDonor</th>\n",
       "        </tr>\n",
       "    </thead>\n",
       "    <tbody>\n",
       "        <tr>\n",
       "            <td>C00492595</td> <td>Progressive Kick </td> <td>D       </td> <td>nan     </td> <td>2015-02-19</td> <td>-127000</td> <td>34           </td> <td>National Nurses United </td>\n",
       "        </tr>\n",
       "    </tbody>\n",
       "        <tr>\n",
       "            <td>C00576108</td> <td>Unintimidated PAC</td> <td>C       </td> <td>Walker  </td> <td>2015-11-03</td> <td>-4e+06 </td> <td>60           </td> <td>Diane M. Hendricks     </td>\n",
       "        </tr>\n",
       "    </tbody>\n",
       "        <tr>\n",
       "            <td>C00576108</td> <td>Unintimidated PAC</td> <td>C       </td> <td>Walker  </td> <td>2015-11-03</td> <td>-600000</td> <td>36           </td> <td>Richard E. Uihlein     </td>\n",
       "        </tr>\n",
       "    </tbody>\n",
       "        <tr>\n",
       "            <td>C00576108</td> <td>Unintimidated PAC</td> <td>C       </td> <td>Walker  </td> <td>2015-11-03</td> <td>-800000</td> <td>36           </td> <td>Richard E. Uihlein     </td>\n",
       "        </tr>\n",
       "    </tbody>\n",
       "        <tr>\n",
       "            <td>C00576108</td> <td>Unintimidated PAC</td> <td>C       </td> <td>Walker  </td> <td>2015-11-03</td> <td>-600000</td> <td>36           </td> <td>Richard E. Uihlein     </td>\n",
       "        </tr>\n",
       "    </tbody>\n",
       "        <tr>\n",
       "            <td>C00576108</td> <td>Unintimidated PAC</td> <td>C       </td> <td>Walker  </td> <td>2015-11-04</td> <td>-40000 </td> <td>114          </td> <td>Warren A. Stephens     </td>\n",
       "        </tr>\n",
       "    </tbody>\n",
       "        <tr>\n",
       "            <td>C00576108</td> <td>Unintimidated PAC</td> <td>C       </td> <td>Walker  </td> <td>2015-11-05</td> <td>-40000 </td> <td>91           </td> <td>Julian H. Robertson Jr.</td>\n",
       "        </tr>\n",
       "    </tbody>\n",
       "        <tr>\n",
       "            <td>C00576108</td> <td>Unintimidated PAC</td> <td>C       </td> <td>Walker  </td> <td>2015-11-05</td> <td>-400000</td> <td>629          </td> <td>Access Industries      </td>\n",
       "        </tr>\n",
       "    </tbody>\n",
       "        <tr>\n",
       "            <td>C00576108</td> <td>Unintimidated PAC</td> <td>C       </td> <td>Walker  </td> <td>2015-11-05</td> <td>-800000</td> <td>629          </td> <td>Access Industries      </td>\n",
       "        </tr>\n",
       "    </tbody>\n",
       "        <tr>\n",
       "            <td>C00576108</td> <td>Unintimidated PAC</td> <td>C       </td> <td>Walker  </td> <td>2015-11-06</td> <td>-400000</td> <td>100          </td> <td>Bernard Marcus         </td>\n",
       "        </tr>\n",
       "    </tbody>\n",
       "</table>\n",
       "<p>... (1331 rows omitted)</p"
      ],
      "text/plain": [
       "CommID    | Committee         | PAC_view | Supports | ContDt     | ContAmt | LinkedDonorID | LinkedDonor\n",
       "C00492595 | Progressive Kick  | D        | nan      | 2015-02-19 | -127000 | 34            | National Nurses United\n",
       "C00576108 | Unintimidated PAC | C        | Walker   | 2015-11-03 | -4e+06  | 60            | Diane M. Hendricks\n",
       "C00576108 | Unintimidated PAC | C        | Walker   | 2015-11-03 | -600000 | 36            | Richard E. Uihlein\n",
       "C00576108 | Unintimidated PAC | C        | Walker   | 2015-11-03 | -800000 | 36            | Richard E. Uihlein\n",
       "C00576108 | Unintimidated PAC | C        | Walker   | 2015-11-03 | -600000 | 36            | Richard E. Uihlein\n",
       "C00576108 | Unintimidated PAC | C        | Walker   | 2015-11-04 | -40000  | 114           | Warren A. Stephens\n",
       "C00576108 | Unintimidated PAC | C        | Walker   | 2015-11-05 | -40000  | 91            | Julian H. Robertson Jr.\n",
       "C00576108 | Unintimidated PAC | C        | Walker   | 2015-11-05 | -400000 | 629           | Access Industries\n",
       "C00576108 | Unintimidated PAC | C        | Walker   | 2015-11-05 | -800000 | 629           | Access Industries\n",
       "C00576108 | Unintimidated PAC | C        | Walker   | 2015-11-06 | -400000 | 100           | Bernard Marcus\n",
       "... (1331 rows omitted)"
      ]
     },
     "execution_count": 3,
     "metadata": {},
     "output_type": "execute_result"
    }
   ],
   "source": [
    "super_pacs"
   ]
  },
  {
   "cell_type": "code",
   "execution_count": null,
   "metadata": {
    "collapsed": true
   },
   "outputs": [],
   "source": []
  }
 ],
 "metadata": {
  "kernelspec": {
   "display_name": "Python 3",
   "language": "python",
   "name": "python3"
  },
  "language_info": {
   "codemirror_mode": {
    "name": "ipython",
    "version": 3
   },
   "file_extension": ".py",
   "mimetype": "text/x-python",
   "name": "python",
   "nbconvert_exporter": "python",
   "pygments_lexer": "ipython3",
   "version": "3.5.2"
  }
 },
 "nbformat": 4,
 "nbformat_minor": 1
}
