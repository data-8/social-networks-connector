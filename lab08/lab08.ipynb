{
 "cells": [
  {
   "cell_type": "code",
   "execution_count": null,
   "metadata": {
    "collapsed": false
   },
   "outputs": [],
   "source": [
    "from IPython.core.display import HTML\n",
    "HTML(\"\"\"\n",
    "<style>\n",
    ".imagesource {\n",
    "    font-size: xx-small;\n",
    "}\n",
    "</style>\n",
    "\"\"\")\n",
    "\n",
    "from datascience import *\n",
    "\n",
    "import matplotlib\n",
    "matplotlib.use('Agg')\n",
    "%matplotlib inline\n",
    "import matplotlib.pyplot as plt\n",
    "import numpy as np\n",
    "plt.style.use('fivethirtyeight')\n",
    "\n",
    "\n",
    "import os\n",
    "import networkx as nx\n",
    "\n",
    "from IPython.core.display import HTML\n",
    "def css_styling():\n",
    "    styles = open(\"custom_style.css\", \"r\").read()\n",
    "    return HTML(styles)\n",
    "css_styling()"
   ]
  },
  {
   "cell_type": "markdown",
   "metadata": {},
   "source": [
    "### Admin\n",
    "\n",
    "* office hours shift to Thursday this week\n",
    "* homework will be released Thursday\n",
    "* we will talk about projects next Monday\n",
    "* pdfs for submitting labs"
   ]
  },
  {
   "cell_type": "markdown",
   "metadata": {
    "collapsed": true
   },
   "source": [
    "## Lab 08 - Centrality and network dynamics"
   ]
  },
  {
   "cell_type": "markdown",
   "metadata": {
    "collapsed": true
   },
   "source": [
    "Today, we're going to talk about two topics. First, we're going to talk about *centrality*. Conceptually, we think of a node as being central when it is in the middle of the network in some way. There are many different ways of defining this concept precisely; we'll look at one example today.\n",
    "\n",
    "Next, we're going to start to explore *dynamics* on networks. By dynamics, we mean process that take place on the network. These processes can include important phenomena like the spread of information, influence, or a disease from one node to another.\n",
    "\n",
    "We look at these two topics together because we expect that central nodes will play an important role in dynamical processes that take place on networks. "
   ]
  },
  {
   "cell_type": "markdown",
   "metadata": {},
   "source": [
    "### Centrality"
   ]
  },
  {
   "cell_type": "markdown",
   "metadata": {},
   "source": [
    "So far, we have thought mostly about network structure and how it might result from various social processes like homophily or triadic closure. Today, we're going to change our focus to how stuff--such as information, resources, or diseases--can spread across networks.\n",
    "\n",
    "First, we're going to investigate a network metric called *betweenness centrality* which gets at the concept of how important a node is in how things spread across networks."
   ]
  },
  {
   "cell_type": "markdown",
   "metadata": {},
   "source": [
    "The betweenness centrality of a node $v$ is defined as the fraction of all shortest paths between all pairs of nodes in the network that pass through $v$.\n",
    "\n",
    "Mathematically, this [can be written](https://en.wikipedia.org/wiki/Betweenness_centrality)\n",
    "\n",
    "$$bc(v) = \\sum_{s, t \\in V} \\frac{\\sigma(s, t | v)}{\\sigma(s, t)},$$\n",
    "\n",
    "where $bc(v)$ is the betweenness centrality of node $v$, $\\sigma(s,t)$ is the number of shortest paths between node $s$ and node $t$ (note that there can be more than one), and $\\sigma(s, t | v)$ is the number of the shortest paths between node $s$ and node $t$ that goes through $v$. Note that the $s$ and $t$ vary over all pairs of nodes *not counting* the node $v$ whose betweennes is being calculated.\n",
    "\n",
    "[Talk about this equation in words; difference between gc and degree; draw a bridge; etc]"
   ]
  },
  {
   "cell_type": "markdown",
   "metadata": {},
   "source": [
    "<img src=\"example_network.png\">"
   ]
  },
  {
   "cell_type": "markdown",
   "metadata": {},
   "source": [
    "Betweenness of node 3:\n",
    "\n",
    "1 <-> 2 contributes 1<br>\n",
    "1 <-> 4 contributes 1<br>\n",
    "\n",
    "All other pairs contribute 0.\n",
    "\n",
    "So, betweenness centrality for node 3 is equal to 2.\n"
   ]
  },
  {
   "cell_type": "markdown",
   "metadata": {},
   "source": [
    "**Discussion Q: can you think of a situation where degree and bc would differ?**"
   ]
  },
  {
   "cell_type": "markdown",
   "metadata": {},
   "source": [
    " "
   ]
  },
  {
   "cell_type": "markdown",
   "metadata": {},
   "source": [
    "### A simple model"
   ]
  },
  {
   "cell_type": "markdown",
   "metadata": {},
   "source": [
    "A simple but very useful model for the spread of an infectious disease is called the SIR model. SIR stand for the three different states that each person in the population can be in:\n",
    "\n",
    "* Susceptible\n",
    "* Infected\n",
    "* Recovered / Removed\n",
    "\n",
    "The idea is that people can only move through the states according to the diagram below: that is, susceptible people can become infected and, once infected, people recover. Once they have recovered, they cannot be infected again, so they are immune.\n",
    "\n",
    "We'll work with one main parameters in our exploration here:\n",
    "\n",
    "* beta - probability of a susceptible node getting infected due to a connection to an infected neighbor\n",
    "\n",
    "Note that beta is defined as the probability a node is infected due to contact with one *infected neighbor*. If a node has several infected neighbors, the total probability that the node will get infected increases."
   ]
  },
  {
   "cell_type": "markdown",
   "metadata": {},
   "source": [
    "<img src='sir_diagram.png'>"
   ]
  },
  {
   "cell_type": "markdown",
   "metadata": {},
   "source": [
    " "
   ]
  },
  {
   "cell_type": "markdown",
   "metadata": {},
   "source": [
    "### Simulating an SIR epidemic"
   ]
  },
  {
   "cell_type": "code",
   "execution_count": null,
   "metadata": {
    "collapsed": true
   },
   "outputs": [],
   "source": [
    "# Rough outline:\n",
    "#\n",
    "# randomly pick a starting node to infect\n",
    "#\n",
    "# while any infected\n",
    "#    get neighbors of infected\n",
    "#    set infected to recovered\n",
    "#    neighbors become infected with prob beta * # infected contacts\n",
    "#    record how many were infected"
   ]
  },
  {
   "cell_type": "code",
   "execution_count": null,
   "metadata": {
    "collapsed": true
   },
   "outputs": [],
   "source": [
    "def set_status(net, ids, value):\n",
    "    \"\"\"\n",
    "    set the value of the 'status' attribute for the nodes with the given ids\n",
    "    in the given network\n",
    "    \"\"\"\n",
    "    nx.set_node_attributes(net, \n",
    "                           'status', \n",
    "                           dict([x for x in zip(ids, [value]*len(ids))]))\n",
    "\n",
    "def get_status(net, ids):\n",
    "    \"\"\"\n",
    "    get the value of the 'status' attributes for the nodes \n",
    "    with given ids in the given network\n",
    "    \"\"\"\n",
    "    dat = nx.get_node_attributes(net, 'status')\n",
    "    return([dat[x] for x in ids])\n",
    "\n",
    "def count_infected_nodes(net):\n",
    "    return(np.sum(np.array(list(nx.get_node_attributes(net, 'status').values())) == 'infected'))"
   ]
  },
  {
   "cell_type": "code",
   "execution_count": null,
   "metadata": {
    "collapsed": false
   },
   "outputs": [],
   "source": [
    "def sim_epidemic(net, start_nodes=None, innoculated_nodes=None, beta=0.3, draw=False):\n",
    "    \n",
    "    # all nodes start susceptible\n",
    "    set_status(net, net.nodes(), 'susceptible')\n",
    "\n",
    "    # innoculated nodes start as recovered\n",
    "    if innoculated_nodes is not None:\n",
    "        set_status(net, innoculated_nodes, 'innoculated')\n",
    "    else:\n",
    "        innoculated_nodes = []\n",
    "\n",
    "    eligible_to_start = [x for x in net.nodes() if x not in innoculated_nodes]        \n",
    "        \n",
    "    if start_nodes is None:\n",
    "        infected_nodes = np.random.choice(eligible_to_start, 1)\n",
    "    else:\n",
    "        infected_nodes = start_nodes\n",
    "\n",
    "    \n",
    "    set_status(net, infected_nodes, 'infected')\n",
    "\n",
    "    incidence = [len(infected_nodes)]\n",
    "    \n",
    "    if draw:\n",
    "        status_cmap = {'susceptible' : '#00FF00', 'infected' : '#FF0000', 'recovered' : '#000000', 'innoculated' : '#0000FF'}\n",
    "        pos = nx.random_layout(net)\n",
    "\n",
    "    while count_infected_nodes(net) > 0:\n",
    "\n",
    "        if draw:\n",
    "            plt.figure(nx.draw(net, \n",
    "                               pos=pos,\n",
    "                               cmap=status_cmap, \n",
    "                               node_color=[status_cmap[net.node[node]['status']] for node in net]))\n",
    "        \n",
    "        ## get neighbors of infected nodes\n",
    "        neighbors = [net.neighbors(x) for x in infected_nodes]\n",
    "\n",
    "        # NB: only one trial per neighbor node, even if multiple neighbors are infected        \n",
    "        # see http://stackoverflow.com/questions/952914/making-a-flat-list-out-of-list-of-lists-in-python\n",
    "        #neighbors = list(set([item for sublist in neighbors for item in sublist]))\n",
    "        neighbors = [item for sublist in neighbors for item in sublist]        \n",
    "        neighbors_status = np.array(get_status(net, neighbors))\n",
    "\n",
    "        ## set infected nodes to recovered\n",
    "        set_status(net, infected_nodes, 'recovered')\n",
    "\n",
    "        ## infect susceptible neighbors with probability beta x number of infected contacts\n",
    "        ## (a node with more than one infected contact will have more than one draws at being infected here)\n",
    "        neighbors = [x[0] for x in zip(neighbors, neighbors_status) if x[1] == 'susceptible']\n",
    "        infect_draws = np.random.random_sample(len(neighbors))\n",
    "        to_infect = list(np.array(neighbors)[np.where(infect_draws < beta)])\n",
    "\n",
    "        num_infected_this_round = len(set(to_infect))\n",
    "        \n",
    "        set_status(net, to_infect, 'infected')\n",
    "        infected_nodes = to_infect\n",
    "\n",
    "        ## record any data\n",
    "        ## TODO\n",
    "        incidence.append(num_infected_this_round)\n",
    "        \n",
    "    return(incidence)"
   ]
  },
  {
   "cell_type": "markdown",
   "metadata": {},
   "source": [
    "### SIR model: illustration"
   ]
  },
  {
   "cell_type": "markdown",
   "metadata": {},
   "source": [
    "**[Coin / SIR demo]**"
   ]
  },
  {
   "cell_type": "markdown",
   "metadata": {},
   "source": [
    "The code above takes a given network and simulates an SIR epidemic on it. It returns a list that has the *incidence* -- that is, the number of new infections -- at each time step. By adding these values up, we can tell how many people ended up being infected by the outbreak."
   ]
  },
  {
   "cell_type": "code",
   "execution_count": null,
   "metadata": {
    "collapsed": true
   },
   "outputs": [],
   "source": [
    "np.random.seed(seed=101)\n",
    "er_net_example = nx.erdos_renyi_graph(n=20, p=.2)"
   ]
  },
  {
   "cell_type": "code",
   "execution_count": null,
   "metadata": {
    "collapsed": false
   },
   "outputs": [],
   "source": [
    "nx.draw(er_net_example)"
   ]
  },
  {
   "cell_type": "code",
   "execution_count": null,
   "metadata": {
    "collapsed": false
   },
   "outputs": [],
   "source": [
    "np.random.seed(seed=100)\n",
    "res = sim_epidemic(er_net_example, beta=.3, draw=True)\n",
    "res"
   ]
  },
  {
   "cell_type": "markdown",
   "metadata": {},
   "source": [
    "## Activity"
   ]
  },
  {
   "cell_type": "markdown",
   "metadata": {},
   "source": [
    "**[Randomize to partners]**"
   ]
  },
  {
   "cell_type": "markdown",
   "metadata": {},
   "source": [
    "<img src=\"example_network0.png\">"
   ]
  },
  {
   "cell_type": "markdown",
   "metadata": {},
   "source": [
    "**Question** Fill in the table below with the distance and the number of shortest paths between each pair of vertices. (For example, if there are three shortest paths each of length 2, write 2 (3) in the table:\n",
    "\n",
    "|             |  node 1 | node 2 |  node 3 | node 4 | node 5 |\n",
    "|   :----:    |  :---:  |  :---: |  :---:  |  :---: |  :---: |\n",
    "|   node 1    |    -    |    ?   |    ?    |   ?    |   ?    |\n",
    "|   node 2    |    -    |    -   |    ?    |   ?    |   ?    |\n",
    "|   node 3    |    -    |    -   |    -    |   ?    |   ?    |\n",
    "|   node 4    |    -    |    -   |    -    |   -    |   ?    |\n",
    "|   node 5    |    -    |    -   |    -    |   -    |   -    |\n"
   ]
  },
  {
   "cell_type": "markdown",
   "metadata": {},
   "source": [
    "**Question** Calculate the betweenness centrality for node 3, and for node 2."
   ]
  },
  {
   "cell_type": "markdown",
   "metadata": {},
   "source": [
    "node 3:\n",
    " ?\n",
    "    \n",
    "node 1:\n",
    "  ? "
   ]
  },
  {
   "cell_type": "markdown",
   "metadata": {},
   "source": [
    "**Question** Check your calculation using the `nx.betweenness_centrality` function. *[NB: be sure to set the normalized argument to False]*."
   ]
  },
  {
   "cell_type": "code",
   "execution_count": null,
   "metadata": {
    "collapsed": false
   },
   "outputs": [],
   "source": [
    "test_net = nx.Graph([(1,3), (1, 4), (2,3), (3,4), (3,5), (4,5)])\n",
    "..."
   ]
  },
  {
   "cell_type": "markdown",
   "metadata": {},
   "source": [
    "### SIR model in Erdos-Renyi random networks"
   ]
  },
  {
   "cell_type": "markdown",
   "metadata": {},
   "source": [
    "**Question** Write some code that runs 1000 simulated ER epidemics on the network `er_net_example` with beta of 0.3. Make a histogram that shows how much variation there is in the total number of people infected in each simulation."
   ]
  },
  {
   "cell_type": "code",
   "execution_count": null,
   "metadata": {
    "collapsed": false
   },
   "outputs": [],
   "source": [
    "..."
   ]
  },
  {
   "cell_type": "markdown",
   "metadata": {},
   "source": [
    "**Question** Write a simulation that varies the beta parameter and studies how the number of people infected varies as beta increases from 0.1 to 0.8."
   ]
  },
  {
   "cell_type": "code",
   "execution_count": null,
   "metadata": {
    "collapsed": false
   },
   "outputs": [],
   "source": [
    "..."
   ]
  },
  {
   "cell_type": "code",
   "execution_count": null,
   "metadata": {
    "collapsed": false
   },
   "outputs": [],
   "source": [
    "..."
   ]
  },
  {
   "cell_type": "markdown",
   "metadata": {},
   "source": [
    "### Innoculating nodes"
   ]
  },
  {
   "cell_type": "markdown",
   "metadata": {},
   "source": [
    "The function `sim_epidemic` can take an optional parameter called `innoculated_nodes`, which is a list with the ids of nodes that are assumed to be impervious to the infection.\n",
    "\n",
    "For example, the following code would run a simulation with node number 10 innoculated:\n",
    "\n",
    "`sim_epidemic(er_net_example, innoculated_nodes=[10], beta=.3)`\n",
    "\n",
    "We might hope that if we innoculate the right node, we can reduce the total number of people who get infected by the epidemic. The question is: what kind of nodes should be innoculated?"
   ]
  },
  {
   "cell_type": "markdown",
   "metadata": {},
   "source": [
    "**Question** Write a simulation that explores what impact innoculating each node in the network has on the number of people that are infected. You should loop through each node in the network and simulate 1000 ER epidemics with that node innoculated. (So, only one node is ever innoculated.) Keep track of which node was innoculated and the number of people that were infected; put these simulation results into a Table called `sim_res`."
   ]
  },
  {
   "cell_type": "code",
   "execution_count": null,
   "metadata": {
    "collapsed": false
   },
   "outputs": [],
   "source": [
    "..."
   ]
  },
  {
   "cell_type": "markdown",
   "metadata": {},
   "source": [
    "**Question** Your simulation results have 1000 repetitions for each innoculated node. Make an aggregated Table called `sim_res_agg` which has the node id and the average total number infected across all of the simulation runs where that node id was innoculated. *[Hint: Use `group` here.]*"
   ]
  },
  {
   "cell_type": "code",
   "execution_count": null,
   "metadata": {
    "collapsed": false
   },
   "outputs": [],
   "source": [
    "..."
   ]
  },
  {
   "cell_type": "markdown",
   "metadata": {},
   "source": [
    "**Question** Now make a Table that has the id of each node in the network, its degree, and its betweenness centrality."
   ]
  },
  {
   "cell_type": "code",
   "execution_count": null,
   "metadata": {
    "collapsed": true
   },
   "outputs": [],
   "source": [
    "..."
   ]
  },
  {
   "cell_type": "markdown",
   "metadata": {},
   "source": [
    "**Question** Join the `node_dat` table onto the `sim_res_agg` table so that you have a table that has node characteristics (degree and betweenness centrality) and the average total number infected when that node is innoculated."
   ]
  },
  {
   "cell_type": "code",
   "execution_count": null,
   "metadata": {
    "collapsed": false
   },
   "outputs": [],
   "source": [
    "..."
   ]
  },
  {
   "cell_type": "markdown",
   "metadata": {},
   "source": [
    "**Question** Make a scatterplot that shows the relationship between the betweenness centrality (x axis) and the average total number infected (y axis)."
   ]
  },
  {
   "cell_type": "code",
   "execution_count": null,
   "metadata": {
    "collapsed": false
   },
   "outputs": [],
   "source": [
    "..."
   ]
  },
  {
   "cell_type": "markdown",
   "metadata": {},
   "source": [
    "**Question** Make a scatterplot that shows the relationship between the degree (x axis) and the average total number infected (y axis)."
   ]
  },
  {
   "cell_type": "code",
   "execution_count": null,
   "metadata": {
    "collapsed": false
   },
   "outputs": [],
   "source": [
    "..."
   ]
  },
  {
   "cell_type": "markdown",
   "metadata": {},
   "source": [
    "**Question** What do the plots reveal? Which metric of centrality (degree or betweenness centrality) appears to be a better guide to targeting nodes for innoculation in the ER network?"
   ]
  },
  {
   "cell_type": "code",
   "execution_count": null,
   "metadata": {
    "collapsed": true
   },
   "outputs": [],
   "source": []
  },
  {
   "cell_type": "markdown",
   "metadata": {},
   "source": [
    "**Optional challenge question** If you have time, try to see if you can come up with other node-level quantities that do an even better job of telling you who should be innoculated to prevent large epidemic outbreaks. You might find these node-level metrics from earlier labs, or by looking at other functions available in the networkx package. Test your suggestion by using innoculation simulations, following the pattern above."
   ]
  },
  {
   "cell_type": "code",
   "execution_count": null,
   "metadata": {
    "collapsed": true
   },
   "outputs": [],
   "source": []
  },
  {
   "cell_type": "markdown",
   "metadata": {},
   "source": [
    "## Submit the lab\n",
    "\n",
    "You're almost done! Now please create a pdf version of your completed lab by **either**:\n",
    "\n",
    "* printing your notebook to a pdf file\n",
    "* going to the Jupyter 'File' menu, choosing 'Download as' and then 'PDF via LaTeX (.pdf)'. \n",
    "\n",
    "Please save the resulting .pdf on your computer and then **submit the .pdf on bcourses**.\n",
    "\n",
    "**The lab must be submitted by the end of the day on Monday, Oct. 31. Late labs will not be accepted.**"
   ]
  },
  {
   "cell_type": "code",
   "execution_count": null,
   "metadata": {
    "collapsed": true
   },
   "outputs": [],
   "source": []
  }
 ],
 "metadata": {
  "kernelspec": {
   "display_name": "Python 3",
   "language": "python",
   "name": "python3"
  },
  "language_info": {
   "codemirror_mode": {
    "name": "ipython",
    "version": 3
   },
   "file_extension": ".py",
   "mimetype": "text/x-python",
   "name": "python",
   "nbconvert_exporter": "python",
   "pygments_lexer": "ipython3",
   "version": "3.5.2"
  }
 },
 "nbformat": 4,
 "nbformat_minor": 1
}
