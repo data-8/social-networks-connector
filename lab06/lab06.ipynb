{
 "cells": [
  {
   "cell_type": "code",
   "execution_count": 1,
   "metadata": {
    "collapsed": true
   },
   "outputs": [],
   "source": [
    "from IPython.core.display import HTML\n",
    "HTML(\"\"\"\n",
    "<style>\n",
    ".imagesource {\n",
    "    font-size: xx-small;\n",
    "}\n",
    "</style>\n",
    "\"\"\")\n",
    "\n",
    "from datascience import *\n",
    "\n",
    "import matplotlib\n",
    "matplotlib.use('Agg')\n",
    "%matplotlib inline\n",
    "import matplotlib.pyplot as plt\n",
    "import numpy as np\n",
    "plt.style.use('fivethirtyeight')\n",
    "\n",
    "\n",
    "import os\n",
    "import networkx as nx"
   ]
  },
  {
   "cell_type": "code",
   "execution_count": 2,
   "metadata": {
    "collapsed": false
   },
   "outputs": [
    {
     "data": {
      "text/html": [
       "<style>\n",
       "div.question {    \n",
       "    background-color: #33f2f2;\n",
       "    border-color: #dFb5b4;\n",
       "    border-left: 5px solid #dfb5b4;\n",
       "    padding: 0.5em;\n",
       "    }\n",
       "div.response {    \n",
       "    background-color: #fcf2f2;\n",
       "    border-color: #dFb5b4;\n",
       "    border-left: 5px solid #dfb5b4;\n",
       "    padding: 0.5em;\n",
       "    }\n",
       "</style>\n"
      ],
      "text/plain": [
       "<IPython.core.display.HTML object>"
      ]
     },
     "execution_count": 2,
     "metadata": {},
     "output_type": "execute_result"
    }
   ],
   "source": [
    "from IPython.core.display import HTML\n",
    "def css_styling():\n",
    "    styles = open(\"custom_style.css\", \"r\").read()\n",
    "    return HTML(styles)\n",
    "css_styling()"
   ]
  },
  {
   "cell_type": "markdown",
   "metadata": {},
   "source": [
    "## Transitivity"
   ]
  },
  {
   "cell_type": "markdown",
   "metadata": {},
   "source": [
    "Social networks are often thought to be characterized by *transitivity* or [triadic closure](https://en.wikipedia.org/wiki/Triadic_closure), which can informally described as the tendency for a person's friends to also be friends with each other.\n",
    "\n",
    "For example, the picture below shows two sets of three connected nodes. Sets of three connected nodes are called *triads*. The principle of transitivity says that in social networks, Panel B should be much more common than Panel A. In fact, some early researchers called Panel A the \"forbidden triad.\""
   ]
  },
  {
   "cell_type": "markdown",
   "metadata": {},
   "source": [
    "<img src=\"triads.png\">"
   ]
  },
  {
   "cell_type": "markdown",
   "metadata": {},
   "source": [
    "\n",
    "A technical note: we don't distinguish between the triads 1--2--3 and 3--2--1. In other words, the order of the ends of the triad can be swapped. But which node is in the middle of the triad does matter. So the triad 1--2--3 is different from 2--3--1. Therefore, the Panel A above has one triad, while Panel B above has 3 triads. "
   ]
  },
  {
   "cell_type": "markdown",
   "metadata": {},
   "source": [
    "**Question** Think about the social processes that lead to forming social network connections (i.e., making friends, confidants, etc). Can you think of any reasons why the process of network formation should make Panel B more common than Panel A in real social networks? "
   ]
  },
  {
   "cell_type": "markdown",
   "metadata": {},
   "source": [
    "<div class='response'>\n",
    "Respond here\n",
    "</div>"
   ]
  },
  {
   "cell_type": "markdown",
   "metadata": {},
   "source": [
    "### Clustering coefficients"
   ]
  },
  {
   "cell_type": "markdown",
   "metadata": {},
   "source": [
    "Now we will look at two closely related ways to measure the extent to which a network exhibits transitivity."
   ]
  },
  {
   "cell_type": "markdown",
   "metadata": {},
   "source": [
    "#### First metric: global clustering coefficient"
   ]
  },
  {
   "cell_type": "markdown",
   "metadata": {},
   "source": [
    "$$C_\\text{global} = \\frac{3 \\times \\text{# triangles in network}}{\\text{# triads in network}}$$"
   ]
  },
  {
   "cell_type": "markdown",
   "metadata": {},
   "source": [
    "#### Second metric: local clustering coefficient (defined for each node)"
   ]
  },
  {
   "cell_type": "markdown",
   "metadata": {},
   "source": [
    "The local clustering coefficient for each node $i$ is"
   ]
  },
  {
   "cell_type": "markdown",
   "metadata": {},
   "source": [
    "$$c_i = \\frac{\\text{# triangles centered on $i$}}{\\text{# possible edges between $i$'s neighbors}} = \\frac{\\text{# triangles centered on $i$}}{(1/2)~d_i~(d_i - 1)},$$"
   ]
  },
  {
   "cell_type": "markdown",
   "metadata": {},
   "source": [
    "where $d_i$ is the degree of node $i$."
   ]
  },
  {
   "cell_type": "markdown",
   "metadata": {},
   "source": [
    "If we want to summarize the clustering in an entire network using the local clustering coefficients, we can use the average (local) clustering coefficient, which is"
   ]
  },
  {
   "cell_type": "markdown",
   "metadata": {},
   "source": [
    "$$C_\\text{avg} = \\frac{1}{n} \\sum_i c_i$$"
   ]
  },
  {
   "cell_type": "markdown",
   "metadata": {},
   "source": [
    "**Clustering metric example**"
   ]
  },
  {
   "cell_type": "markdown",
   "metadata": {},
   "source": [
    "<img src=\"example_network0.png\">"
   ]
  },
  {
   "cell_type": "markdown",
   "metadata": {},
   "source": [
    "**Group question** Fill in the following table, which helps you compute each individual node's local clustering coefficient. Then find the average clustering coefficient.\n",
    "\n",
    "\n",
    "|             |  degree | # triangles |  $c_i$ |\n",
    "|   :----:    |  :---:  |  :---:      |  :---:  |\n",
    "|   node 1    |    2    |    1        |    1    |\n",
    "|   node 2    |    1    |    0        |    0    |\n",
    "|   node 3    |    4    |    2        |    1/3  |\n",
    "|   node 4    |    3    |    2        |    2/3  |\n",
    "|   node 5    |    2    |    1        |    1    |"
   ]
  },
  {
   "cell_type": "markdown",
   "metadata": {},
   "source": [
    "<div class='response'>\n",
    "Average: (1 + 1/3 + 2/3) / 5 = 0.6\n",
    "</div>"
   ]
  },
  {
   "cell_type": "markdown",
   "metadata": {},
   "source": [
    "**Group question** How many triads are there in this network? (It may help to list them.) How many triangles?"
   ]
  },
  {
   "cell_type": "markdown",
   "metadata": {},
   "source": [
    "<div class='response'>\n",
    "Triads: 11\n",
    "(1, 3, 2)\n",
    "(1, 3, 4)\n",
    "(1, 3, 5)\n",
    "(1, 4, 3)\n",
    "(1, 4, 5)\n",
    "(2, 3, 4)\n",
    "(2, 3, 5)\n",
    "(3, 1, 4)\n",
    "(3, 4, 5)\n",
    "(3, 5, 4)\n",
    "(4, 3, 5)\n",
    "\n",
    "Triangles: 2\n",
    "</div>"
   ]
  },
  {
   "cell_type": "markdown",
   "metadata": {},
   "source": [
    "**Group question** What is the transitivity?"
   ]
  },
  {
   "cell_type": "markdown",
   "metadata": {},
   "source": [
    "<div class='response'>\n",
    "Transitivity: 3 * 2 / 11 = 0.5454545454545454\n",
    "</div>"
   ]
  },
  {
   "cell_type": "code",
   "execution_count": 151,
   "metadata": {
    "collapsed": false
   },
   "outputs": [
    {
     "data": {
      "text/plain": [
       "0.5454545454545454"
      ]
     },
     "execution_count": 151,
     "metadata": {},
     "output_type": "execute_result"
    }
   ],
   "source": [
    "3 * 2 / 11"
   ]
  },
  {
   "cell_type": "markdown",
   "metadata": {},
   "source": [
    "#### [Random partner selection]"
   ]
  },
  {
   "cell_type": "markdown",
   "metadata": {},
   "source": [
    "**Question** Write down your partner's name and hometown."
   ]
  },
  {
   "cell_type": "markdown",
   "metadata": {},
   "source": [
    "<div class='response'>\n",
    "Answer here\n",
    "</div>"
   ]
  },
  {
   "cell_type": "markdown",
   "metadata": {},
   "source": [
    "#### Example with partner"
   ]
  },
  {
   "cell_type": "markdown",
   "metadata": {},
   "source": [
    "The next few question refer to the following example network:"
   ]
  },
  {
   "cell_type": "markdown",
   "metadata": {},
   "source": [
    "<img src=\"example_network_clustering.png\">"
   ]
  },
  {
   "cell_type": "markdown",
   "metadata": {},
   "source": [
    "**Question** Fill in the table below with the clustering coefficient for each node:\n",
    "\n",
    "|             |  degree | # triangles |  $c_i$ |\n",
    "|   :----:    |  :---:  |  :---:      |  :---:  |\n",
    "|   node 1    |    ?    |    ?        |    ?    |\n",
    "|   node 2    |    ?    |    ?        |    ?    |\n",
    "|   node 3    |    ?    |    ?        |    ?    |\n",
    "|   node 4    |    ?    |    ?        |    ?    |\n",
    "|   node 5    |    ?    |    ?        |    ?    |\n",
    "|   node 6    |    ?    |    ?        |    ?    |\n",
    "|   node 7    |    ?    |    ?        |    ?    |\n",
    "|   node 8    |    ?    |    ?        |    ?    |\n"
   ]
  },
  {
   "cell_type": "markdown",
   "metadata": {},
   "source": [
    "**Question** What is the average local clustering coefficient? \n",
    "<div class='response'>\n",
    "Answer here\n",
    "</div>"
   ]
  },
  {
   "cell_type": "markdown",
   "metadata": {},
   "source": [
    "**Question** How many triads are there in the example network? What is the transitivity? "
   ]
  },
  {
   "cell_type": "markdown",
   "metadata": {},
   "source": [
    "<div class='response'>\n",
    "Triads:\n",
    "Answer here\n",
    "\n",
    "Transitivity:\n",
    "Answer here\n",
    "</div>"
   ]
  },
  {
   "cell_type": "markdown",
   "metadata": {},
   "source": [
    "**Question** Now check your answers by using the functions `nx.average_clustering` and `nx.transitivity`."
   ]
  },
  {
   "cell_type": "code",
   "execution_count": 112,
   "metadata": {
    "collapsed": true
   },
   "outputs": [],
   "source": [
    "test = nx.Graph(...)"
   ]
  },
  {
   "cell_type": "code",
   "execution_count": 3,
   "metadata": {
    "collapsed": false
   },
   "outputs": [],
   "source": [
    "# average clustering check"
   ]
  },
  {
   "cell_type": "code",
   "execution_count": 4,
   "metadata": {
    "collapsed": false
   },
   "outputs": [],
   "source": [
    "# transitivity check"
   ]
  },
  {
   "cell_type": "markdown",
   "metadata": {},
   "source": [
    "## Clustering and transitivity in the Add Health networks"
   ]
  },
  {
   "cell_type": "markdown",
   "metadata": {},
   "source": [
    "Now we'll examine whether or not triadic closure really is a feature of social networks by studying the Add Health friendship networks.\n",
    "\n",
    "First, we'll re-use some code from a previous lab to read the Add Health networks into memory:"
   ]
  },
  {
   "cell_type": "code",
   "execution_count": 4,
   "metadata": {
    "collapsed": true
   },
   "outputs": [],
   "source": [
    "def read_add_health_network(network_id):\n",
    "    \"\"\"\n",
    "    network_id : integer from 1 to 84\n",
    "    \n",
    "    read in the Add Health network corresponding to the given id number and\n",
    "    return it as an undirected networkx object\n",
    "    \"\"\"\n",
    "\n",
    "    # this file was downloaded from\n",
    "    # http://moreno.ss.uci.edu/data.html#adhealth\n",
    "    edge_file = os.path.join(\"data\", \"comm\" + str(network_id) + \".dat\")\n",
    "    with open(edge_file, 'r') as f:\n",
    "        edge_lines = f.readlines()\n",
    "        \n",
    "    network = nx.parse_edgelist(edge_lines, nodetype=int, data=[('activity_level', float)])\n",
    "    \n",
    "    # note that we call the to_undirected method to ensure we get an undirected network\n",
    "    return(network.to_undirected())"
   ]
  },
  {
   "cell_type": "code",
   "execution_count": 6,
   "metadata": {
    "collapsed": false
   },
   "outputs": [],
   "source": [
    "number_add_health_networks = 84\n",
    "add_health_networks = [read_add_health_network(x) for x in range(1,number_add_health_networks+1)]"
   ]
  },
  {
   "cell_type": "markdown",
   "metadata": {},
   "source": [
    "**Question** Following the pattern of earlier labs, write a loop that goes through each of the 84 Add Health networks and, for each one, calculates the following quantities:\n",
    "\n",
    "* `num_nodes` - number of nodes\n",
    "* `avg_degree` - average degree\n",
    "* `num_components` - number of components\n",
    "* `average_clustering` - the average individual clustering coefficient\n",
    "* `transitivity` - the transitivity\n",
    "\n",
    "Store your results in a `Table` called `add_health`."
   ]
  },
  {
   "cell_type": "code",
   "execution_count": 131,
   "metadata": {
    "collapsed": true
   },
   "outputs": [],
   "source": [
    "...\n",
    "...\n",
    "..."
   ]
  },
  {
   "cell_type": "markdown",
   "metadata": {},
   "source": [
    "**Question** Make two histograms that show the distribution of the average clustering coefficient and the transitivity across the 84 Add Health networks. What is the mean of each metric? "
   ]
  },
  {
   "cell_type": "code",
   "execution_count": null,
   "metadata": {
    "collapsed": true
   },
   "outputs": [],
   "source": [
    "..."
   ]
  },
  {
   "cell_type": "markdown",
   "metadata": {},
   "source": [
    "**Question** Write a sentence that interprets the average clustering coefficient in words (ie, 'the average clustering coefficient is X, which means...')."
   ]
  },
  {
   "cell_type": "markdown",
   "metadata": {},
   "source": [
    "<div class='response'>\n",
    "Answer here\n",
    "</div>"
   ]
  },
  {
   "cell_type": "markdown",
   "metadata": {},
   "source": [
    "Remember that we're interested in evaluating this theory that triadic closure is common in social networks. But we have two different ways of measuring triadic closure: average clustering and transitivity.\n",
    "We might worry that our results will differ depending on which of the two metrics we focus on.\n",
    "\n",
    "Let's take advantage of the fact that we have 84 different social networks in the Add Health dataset to see if these two metrics appear to pick up different aspects of network structure."
   ]
  },
  {
   "cell_type": "markdown",
   "metadata": {},
   "source": [
    "**Question** Do you think that average clustering and transitivity measure network structure in similar ways, or do you think they capture different things? In other words, if you make a scatter plot comparing these two metrics across the 84 Add Health datasets, do you expect to find (1) no relationship; (2) a positive relationship; (3) a negative relationship; or (4) something else?"
   ]
  },
  {
   "cell_type": "markdown",
   "metadata": {},
   "source": [
    "<div class='response'>\n",
    "Respond here\n",
    "</div>"
   ]
  },
  {
   "cell_type": "markdown",
   "metadata": {},
   "source": [
    "**Question** Now make a scatter plot comparing average clustering and transitivity across the 84 Add Health networks."
   ]
  },
  {
   "cell_type": "code",
   "execution_count": null,
   "metadata": {
    "collapsed": false
   },
   "outputs": [],
   "source": [
    " "
   ]
  },
  {
   "cell_type": "markdown",
   "metadata": {},
   "source": [
    "**Question** What do you conclude about how similar/different these two metrics are?"
   ]
  },
  {
   "cell_type": "markdown",
   "metadata": {},
   "source": [
    "<div class='response'>\n",
    "Respond here\n",
    "</div>"
   ]
  },
  {
   "cell_type": "markdown",
   "metadata": {},
   "source": [
    "**Question** Now think about how the different metrics of clustering might change as the network goes from having relatively few nodes to relatively many nodes. Discuss with your partner whether you think clustering is most likely to (1) have no relationship to network size; (2) have a positive relationship with network size; (3) have a negative relationship with network size; or (4) something else."
   ]
  },
  {
   "cell_type": "markdown",
   "metadata": {},
   "source": [
    "<div class='response'>\n",
    "Answer here\n",
    "</div>"
   ]
  },
  {
   "cell_type": "markdown",
   "metadata": {},
   "source": [
    "**Question** Now make a scatter plot to check your prediction. (You can use either the average clustering or the transitivity.) What do you find?"
   ]
  },
  {
   "cell_type": "code",
   "execution_count": null,
   "metadata": {
    "collapsed": false
   },
   "outputs": [],
   "source": [
    " "
   ]
  },
  {
   "cell_type": "markdown",
   "metadata": {},
   "source": [
    "**Question** Finally, think about how the different metrics of clustering might change as the network goes from having relatively low average degree to a relatively high average degree. Discuss with your partner whether you think clustering is most likely to (1) have no relationship to average degree; (2) have a positive relationship with average degree; (3) have a negative relationship with average degree; or (4) something else."
   ]
  },
  {
   "cell_type": "markdown",
   "metadata": {},
   "source": [
    "<div class='response'>\n",
    "Answer here\n",
    "</div>"
   ]
  },
  {
   "cell_type": "markdown",
   "metadata": {},
   "source": [
    "**Question** Now make a scatter plot to check your prediction. Were you right? What do you conclude from the plot?"
   ]
  },
  {
   "cell_type": "code",
   "execution_count": null,
   "metadata": {
    "collapsed": false
   },
   "outputs": [],
   "source": [
    " "
   ]
  },
  {
   "cell_type": "markdown",
   "metadata": {},
   "source": [
    "<div class='response'>\n",
    "Answer here\n",
    "</div>"
   ]
  },
  {
   "cell_type": "markdown",
   "metadata": {},
   "source": [
    "## Comparing a network to a model"
   ]
  },
  {
   "cell_type": "markdown",
   "metadata": {},
   "source": [
    "OK, so we have been able to calculate the transitivity and average clustering coefficient for all 84 Add Health networks. However, it is a little hard to know whether the results we have seen are consistent with the theory that triadic closure is common in social networks. Why? Because the theory really says that triadic closure should be more common in social networks *than in otherwise similar random networks*.\n",
    "\n",
    "In this section of the lab, we're going to address the theory more directly by generating random networks and comparing them to the Add Health networks. Thus, we will be able to see whether the clustering in Add Health networks looks typical of otherwise similar random networks, or whether it is different."
   ]
  },
  {
   "cell_type": "markdown",
   "metadata": {},
   "source": [
    "### First model: ER random network"
   ]
  },
  {
   "cell_type": "markdown",
   "metadata": {},
   "source": [
    "First, we'll need to write a function that will help us simulate Erdos-Renyi random networks.\n",
    "\n",
    "Remember from last class that the average degree, $\\bar{d}$, can be written as\n",
    "\n",
    "$$\\bar{d} = p(n-1),$$ \n",
    "\n",
    "so, solving for $p$, we get\n",
    "\n",
    "$$p = \\frac{\\bar{d}}{(n-1)}.$$\n",
    "\n",
    "It will turn out to be helpful to be able to generate a random network by specifying the average degree instead of the parameter $p$."
   ]
  },
  {
   "cell_type": "markdown",
   "metadata": {},
   "source": [
    "**Question** Write a function that takes a number of nodes and an average degree and returns an ER graph generated using the appropriate value of $p$."
   ]
  },
  {
   "cell_type": "code",
   "execution_count": 17,
   "metadata": {
    "collapsed": true
   },
   "outputs": [],
   "source": [
    "def er_by_degree(...):\n",
    "    return(...)"
   ]
  },
  {
   "cell_type": "markdown",
   "metadata": {},
   "source": [
    "**Question** Check that your function works by using it to simulate 100 networks with $n=1000$ and average degree of 5. Calculate the average of the average degrees of the 1000 resulting networks and plot a histogram that shows the distribution of the average degree across the 1000 networks."
   ]
  },
  {
   "cell_type": "code",
   "execution_count": 163,
   "metadata": {
    "collapsed": false
   },
   "outputs": [
    {
     "name": "stdout",
     "output_type": "stream",
     "text": [
      "mean sim dbar:  4.98562\n"
     ]
    },
    {
     "data": {
      "image/png": "[encoded data removed]",
      "text/plain": [
       "<matplotlib.figure.Figure at 0x1263c8a58>"
      ]
     },
     "metadata": {},
     "output_type": "display_data"
    }
   ],
   "source": [
    "...\n",
    "...\n",
    "..."
   ]
  },
  {
   "cell_type": "markdown",
   "metadata": {},
   "source": [
    "Now we're going to write a simulation study to look at the average clustering coefficient in ER networks. Since we saw above that there appears to be a relationship between the number of nodes and the clustering coefficient, we'll simulate ER networks with different numbers of nodes.\n",
    "\n",
    "**Question** Write a simulation that simulates ER random networks for varying numbers of nodes from 100 up to 2000 in steps of 100. Fix the average degree at the average degree across all 84 Add Health networks.\n",
    "Save your results in a Table called `results` which has two columns: `num_nodes` and `average_clustering`. Be sure to generate a few (say 5) different ER networks for each combination of parameters.\n",
    "\n",
    "*[HINT: code from last week's lab will be helpful as a pattern here]*"
   ]
  },
  {
   "cell_type": "code",
   "execution_count": 160,
   "metadata": {
    "collapsed": false
   },
   "outputs": [],
   "source": [
    "...\n",
    "...\n",
    "..."
   ]
  },
  {
   "cell_type": "markdown",
   "metadata": {},
   "source": [
    "**Question** Now make a scatterplot that shows the number of nodes (x axis) and the average clustering coefficient (y axis)."
   ]
  },
  {
   "cell_type": "code",
   "execution_count": null,
   "metadata": {
    "collapsed": false
   },
   "outputs": [],
   "source": [
    "..."
   ]
  },
  {
   "cell_type": "markdown",
   "metadata": {},
   "source": [
    "**Question** Compare these results to the scatter plot you made above using the Add Health data. What do you conclude?\n",
    "\n",
    "**[Challenge Question]** Try to make a single scatter plot that shows the results from your ER simulation in one color and the results from the Add Health networks in another color. This is the clearest way to compare these two sets of results."
   ]
  },
  {
   "cell_type": "code",
   "execution_count": null,
   "metadata": {
    "collapsed": false
   },
   "outputs": [],
   "source": [
    "...\n",
    "..."
   ]
  },
  {
   "cell_type": "markdown",
   "metadata": {},
   "source": [
    "### Comparing a specific network to the ER model"
   ]
  },
  {
   "cell_type": "markdown",
   "metadata": {},
   "source": [
    "Above, we used the average degree across all Add Health networks and looked at the relationship between clustering and number of nodes. We saw that (1) the qualitative pattern in the ER networks was similar to the Add Health networks; but (2) that the level of clustering is higher in Add Helath networks than in the ER networks.\n",
    "\n",
    "Now we're going to focus on one specific Add Health network. We'll simulate a bunch of ER networks that have the same average degree and number of nodes as that specific Add Health network. Then we'll compare the distribution of ER networks to the value we see in the specific Add Health network."
   ]
  },
  {
   "cell_type": "markdown",
   "metadata": {},
   "source": [
    "First, it will be helpful to write another function. \n",
    "\n",
    "**Question** Write a function called `rand_er_network` that takes a network (called `network`) as its argument and returns a randomly generated ER network that has the same number of nodes and average degree as `network`."
   ]
  },
  {
   "cell_type": "code",
   "execution_count": null,
   "metadata": {
    "collapsed": false
   },
   "outputs": [],
   "source": [
    "def rand_er_network(...):\n",
    "    ..."
   ]
  },
  {
   "cell_type": "markdown",
   "metadata": {},
   "source": [
    "**Question** Pick a specific Add Health network and generate 500 ER random networks with matching numbers of nodes and average degree. Calculate the average clustering for each of the 500 ER random networks. Then plot the distribution of the results."
   ]
  },
  {
   "cell_type": "code",
   "execution_count": null,
   "metadata": {
    "collapsed": false
   },
   "outputs": [],
   "source": [
    "# of course, you could also pick any of the add health networks;\n",
    "# we'll look at the first one here\n",
    "add_health_net = add_health_networks[0]\n",
    "\n",
    "print(\"Clustering coef. in add health network: \", nx.average_clustering(add_health_net))\n",
    "\n",
    "...\n",
    "...\n",
    "...\n",
    "\n",
    "results.hist('average_clustering')"
   ]
  },
  {
   "cell_type": "markdown",
   "metadata": {},
   "source": [
    "**Question** Now calculate the average clustering for the Add Health network. Where would it be in the distribution of ER results? Would it be a pretty typical value or is it extreme?"
   ]
  },
  {
   "cell_type": "markdown",
   "metadata": {},
   "source": [
    "<div class='response'>\n",
    "Answer here\n",
    "</div>"
   ]
  },
  {
   "cell_type": "markdown",
   "metadata": {
    "collapsed": true
   },
   "source": [
    "## Submit the lab\n",
    "\n",
    "You're almost done! Now please create a pdf version of your completed lab by **either**:\n",
    "\n",
    "* printing your notebook to a pdf file\n",
    "* going to the Jupyter 'File' menu, choosing 'Download as' and then 'PDF via LaTeX (.pdf)'. \n",
    "\n",
    "Please save the resulting .pdf on your computer and then **submit the .pdf on bcourses**.\n",
    "\n",
    "**The lab must be submitted by the end of the day on Monday, Oct. 17. Late labs will not be accepted.**"
   ]
  }
 ],
 "metadata": {
  "kernelspec": {
   "display_name": "Python 3",
   "language": "python",
   "name": "python3"
  },
  "language_info": {
   "codemirror_mode": {
    "name": "ipython",
    "version": 3
   },
   "file_extension": ".py",
   "mimetype": "text/x-python",
   "name": "python",
   "nbconvert_exporter": "python",
   "pygments_lexer": "ipython3",
   "version": "3.5.2"
  }
 },
 "nbformat": 4,
 "nbformat_minor": 1
}
