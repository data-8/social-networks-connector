{
 "cells": [
  {
   "cell_type": "code",
   "execution_count": 10,
   "metadata": {
    "collapsed": true
   },
   "outputs": [],
   "source": [
    "import networkx as nx\n",
    "from pickle import *\n",
    "import numpy as np\n",
    "import pandas as pd\n",
    "from pandas.io.json import json_normalize\n",
    "import json\n",
    "import yaml\n",
    "from datascience import *"
   ]
  },
  {
   "cell_type": "markdown",
   "metadata": {},
   "source": [
    "## Overview: Data on Members of Congress"
   ]
  },
  {
   "cell_type": "markdown",
   "metadata": {},
   "source": [
    "Both the Twitter data and the bill co-sponsorship data contain information about connections between Members of Congress.  The repository [https://github.com/unitedstates/congress-legislators](https://github.com/unitedstates/congress-legislators) has collected lots of useful additional information about each MOC. Here, we'll illustrate how to open up a couple of the datafiles.\n",
    "\n",
    "The important files are stored in `yaml` (yet another markup language) format. You can use the `yaml` package (which we imported above) to read in yaml data. There are a couple of examples below (and note that the repository has additional files that we won't explore here).\n",
    "\n",
    "If you have questions or figure something interesting out about the dataset, tell us all about it on Piazza!"
   ]
  },
  {
   "cell_type": "markdown",
   "metadata": {},
   "source": [
    "### Biographical information"
   ]
  },
  {
   "cell_type": "code",
   "execution_count": 2,
   "metadata": {
    "collapsed": true
   },
   "outputs": [],
   "source": [
    "# information on current legislators\n",
    "leg_current = yaml.load(open('congress-legislators/legislators-current.yaml', 'r'))"
   ]
  },
  {
   "cell_type": "code",
   "execution_count": 3,
   "metadata": {
    "collapsed": true
   },
   "outputs": [],
   "source": [
    "leg_current_df = pd.DataFrame(leg_current)"
   ]
  },
  {
   "cell_type": "code",
   "execution_count": 4,
   "metadata": {
    "collapsed": false
   },
   "outputs": [
    {
     "data": {
      "text/html": [
       "<div>\n",
       "<table border=\"1\" class=\"dataframe\">\n",
       "  <thead>\n",
       "    <tr style=\"text-align: right;\">\n",
       "      <th></th>\n",
       "      <th>bio</th>\n",
       "      <th>family</th>\n",
       "      <th>id</th>\n",
       "      <th>leadership_roles</th>\n",
       "      <th>name</th>\n",
       "      <th>other_names</th>\n",
       "      <th>terms</th>\n",
       "    </tr>\n",
       "  </thead>\n",
       "  <tbody>\n",
       "    <tr>\n",
       "      <th>0</th>\n",
       "      <td>{'birthday': '1952-11-09', 'gender': 'M', 'rel...</td>\n",
       "      <td>NaN</td>\n",
       "      <td>{'lis': 'S307', 'wikipedia': 'Sherrod Brown', ...</td>\n",
       "      <td>NaN</td>\n",
       "      <td>{'first': 'Sherrod', 'last': 'Brown', 'officia...</td>\n",
       "      <td>NaN</td>\n",
       "      <td>[{'start': '1993-01-05', 'end': '1995-01-03', ...</td>\n",
       "    </tr>\n",
       "    <tr>\n",
       "      <th>1</th>\n",
       "      <td>{'birthday': '1958-10-13', 'gender': 'F', 'rel...</td>\n",
       "      <td>NaN</td>\n",
       "      <td>{'lis': 'S275', 'wikipedia': 'Maria Cantwell',...</td>\n",
       "      <td>NaN</td>\n",
       "      <td>{'first': 'Maria', 'last': 'Cantwell', 'offici...</td>\n",
       "      <td>NaN</td>\n",
       "      <td>[{'start': '1993-01-05', 'end': '1995-01-03', ...</td>\n",
       "    </tr>\n",
       "    <tr>\n",
       "      <th>2</th>\n",
       "      <td>{'birthday': '1943-10-05', 'gender': 'M', 'rel...</td>\n",
       "      <td>NaN</td>\n",
       "      <td>{'lis': 'S308', 'wikipedia': 'Ben Cardin', 'go...</td>\n",
       "      <td>NaN</td>\n",
       "      <td>{'first': 'Benjamin', 'middle': 'L.', 'officia...</td>\n",
       "      <td>NaN</td>\n",
       "      <td>[{'start': '1987-01-06', 'end': '1989-01-03', ...</td>\n",
       "    </tr>\n",
       "    <tr>\n",
       "      <th>3</th>\n",
       "      <td>{'birthday': '1947-01-23', 'gender': 'M', 'rel...</td>\n",
       "      <td>NaN</td>\n",
       "      <td>{'lis': 'S277', 'wikipedia': 'Tom Carper', 'go...</td>\n",
       "      <td>NaN</td>\n",
       "      <td>{'first': 'Thomas', 'middle': 'Richard', 'offi...</td>\n",
       "      <td>NaN</td>\n",
       "      <td>[{'start': '1983-01-03', 'end': '1985-01-03', ...</td>\n",
       "    </tr>\n",
       "    <tr>\n",
       "      <th>4</th>\n",
       "      <td>{'birthday': '1960-04-13', 'gender': 'M'}</td>\n",
       "      <td>NaN</td>\n",
       "      <td>{'lis': 'S309', 'wikipedia': 'Bob Casey, Jr.',...</td>\n",
       "      <td>NaN</td>\n",
       "      <td>{'nickname': 'Bob', 'first': 'Robert', 'last':...</td>\n",
       "      <td>NaN</td>\n",
       "      <td>[{'fax': '202-228-0604', 'office': '393 Russel...</td>\n",
       "    </tr>\n",
       "  </tbody>\n",
       "</table>\n",
       "</div>"
      ],
      "text/plain": [
       "                                                 bio family  \\\n",
       "0  {'birthday': '1952-11-09', 'gender': 'M', 'rel...    NaN   \n",
       "1  {'birthday': '1958-10-13', 'gender': 'F', 'rel...    NaN   \n",
       "2  {'birthday': '1943-10-05', 'gender': 'M', 'rel...    NaN   \n",
       "3  {'birthday': '1947-01-23', 'gender': 'M', 'rel...    NaN   \n",
       "4          {'birthday': '1960-04-13', 'gender': 'M'}    NaN   \n",
       "\n",
       "                                                  id leadership_roles  \\\n",
       "0  {'lis': 'S307', 'wikipedia': 'Sherrod Brown', ...              NaN   \n",
       "1  {'lis': 'S275', 'wikipedia': 'Maria Cantwell',...              NaN   \n",
       "2  {'lis': 'S308', 'wikipedia': 'Ben Cardin', 'go...              NaN   \n",
       "3  {'lis': 'S277', 'wikipedia': 'Tom Carper', 'go...              NaN   \n",
       "4  {'lis': 'S309', 'wikipedia': 'Bob Casey, Jr.',...              NaN   \n",
       "\n",
       "                                                name other_names  \\\n",
       "0  {'first': 'Sherrod', 'last': 'Brown', 'officia...         NaN   \n",
       "1  {'first': 'Maria', 'last': 'Cantwell', 'offici...         NaN   \n",
       "2  {'first': 'Benjamin', 'middle': 'L.', 'officia...         NaN   \n",
       "3  {'first': 'Thomas', 'middle': 'Richard', 'offi...         NaN   \n",
       "4  {'nickname': 'Bob', 'first': 'Robert', 'last':...         NaN   \n",
       "\n",
       "                                               terms  \n",
       "0  [{'start': '1993-01-05', 'end': '1995-01-03', ...  \n",
       "1  [{'start': '1993-01-05', 'end': '1995-01-03', ...  \n",
       "2  [{'start': '1987-01-06', 'end': '1989-01-03', ...  \n",
       "3  [{'start': '1983-01-03', 'end': '1985-01-03', ...  \n",
       "4  [{'fax': '202-228-0604', 'office': '393 Russel...  "
      ]
     },
     "execution_count": 4,
     "metadata": {},
     "output_type": "execute_result"
    }
   ],
   "source": [
    "leg_current_df.head()"
   ]
  },
  {
   "cell_type": "markdown",
   "metadata": {},
   "source": [
    "### Social media information"
   ]
  },
  {
   "cell_type": "markdown",
   "metadata": {},
   "source": [
    "NOTE: the curators of these data say that they are careful to only include official (and not campaign-related) social media accounts. So there may be some difference between the Twitter accounts listed here and the Twitter accounts that we grabbed using CSPAN's list."
   ]
  },
  {
   "cell_type": "code",
   "execution_count": 5,
   "metadata": {
    "collapsed": true
   },
   "outputs": [],
   "source": [
    "# information on social media accounts of legislators\n",
    "leg_socmedia = yaml.load(open('congress-legislators/legislators-social-media.yaml', 'r'))"
   ]
  },
  {
   "cell_type": "markdown",
   "metadata": {},
   "source": [
    "We can see that `yaml.load` gives us a dictionary."
   ]
  },
  {
   "cell_type": "code",
   "execution_count": 8,
   "metadata": {
    "collapsed": false
   },
   "outputs": [
    {
     "data": {
      "text/plain": [
       "{'id': {'bioguide': 'R000600', 'govtrack': 412664, 'thomas': '02222'},\n",
       " 'social': {'facebook': 'congresswomanaumuaamata',\n",
       "  'facebook_id': '1537155909907320',\n",
       "  'twitter': 'RepAmata',\n",
       "  'twitter_id': 3026622545,\n",
       "  'youtube_id': 'UCGdrLQbt1PYDTPsampx4t1A'}}"
      ]
     },
     "execution_count": 8,
     "metadata": {},
     "output_type": "execute_result"
    }
   ],
   "source": [
    "leg_socmedia[0]"
   ]
  },
  {
   "cell_type": "markdown",
   "metadata": {},
   "source": [
    "We can convert the dictionary to a pandas DataFrame like so:"
   ]
  },
  {
   "cell_type": "code",
   "execution_count": 6,
   "metadata": {
    "collapsed": true
   },
   "outputs": [],
   "source": [
    "leg_socmedia_df = pd.DataFrame(leg_socmedia)"
   ]
  },
  {
   "cell_type": "code",
   "execution_count": 7,
   "metadata": {
    "collapsed": false
   },
   "outputs": [
    {
     "data": {
      "text/html": [
       "<div>\n",
       "<table border=\"1\" class=\"dataframe\">\n",
       "  <thead>\n",
       "    <tr style=\"text-align: right;\">\n",
       "      <th></th>\n",
       "      <th>id</th>\n",
       "      <th>social</th>\n",
       "    </tr>\n",
       "  </thead>\n",
       "  <tbody>\n",
       "    <tr>\n",
       "      <th>0</th>\n",
       "      <td>{'govtrack': 412664, 'bioguide': 'R000600', 't...</td>\n",
       "      <td>{'twitter': 'RepAmata', 'facebook': 'congressw...</td>\n",
       "    </tr>\n",
       "    <tr>\n",
       "      <th>1</th>\n",
       "      <td>{'govtrack': 412645, 'bioguide': 'H001070', 't...</td>\n",
       "      <td>{'twitter': 'RepHardy', 'twitter_id': 29642225...</td>\n",
       "    </tr>\n",
       "    <tr>\n",
       "      <th>2</th>\n",
       "      <td>{'govtrack': 412428, 'bioguide': 'Y000064', 't...</td>\n",
       "      <td>{'twitter': 'RepToddYoung', 'twitter_id': 2341...</td>\n",
       "    </tr>\n",
       "    <tr>\n",
       "      <th>3</th>\n",
       "      <td>{'govtrack': 412667, 'bioguide': 'E000295', 't...</td>\n",
       "      <td>{'instagram_id': 1582702853, 'twitter': 'SenJo...</td>\n",
       "    </tr>\n",
       "    <tr>\n",
       "      <th>4</th>\n",
       "      <td>{'govtrack': 412668, 'bioguide': 'T000476', 't...</td>\n",
       "      <td>{'twitter': 'senthomtillis', 'facebook': 'Sena...</td>\n",
       "    </tr>\n",
       "  </tbody>\n",
       "</table>\n",
       "</div>"
      ],
      "text/plain": [
       "                                                  id  \\\n",
       "0  {'govtrack': 412664, 'bioguide': 'R000600', 't...   \n",
       "1  {'govtrack': 412645, 'bioguide': 'H001070', 't...   \n",
       "2  {'govtrack': 412428, 'bioguide': 'Y000064', 't...   \n",
       "3  {'govtrack': 412667, 'bioguide': 'E000295', 't...   \n",
       "4  {'govtrack': 412668, 'bioguide': 'T000476', 't...   \n",
       "\n",
       "                                              social  \n",
       "0  {'twitter': 'RepAmata', 'facebook': 'congressw...  \n",
       "1  {'twitter': 'RepHardy', 'twitter_id': 29642225...  \n",
       "2  {'twitter': 'RepToddYoung', 'twitter_id': 2341...  \n",
       "3  {'instagram_id': 1582702853, 'twitter': 'SenJo...  \n",
       "4  {'twitter': 'senthomtillis', 'facebook': 'Sena...  "
      ]
     },
     "execution_count": 7,
     "metadata": {},
     "output_type": "execute_result"
    }
   ],
   "source": [
    "leg_socmedia_df.head()"
   ]
  },
  {
   "cell_type": "markdown",
   "metadata": {},
   "source": [
    "And we can convert the pandas DataFrame into a datascience Table like this:"
   ]
  },
  {
   "cell_type": "code",
   "execution_count": 15,
   "metadata": {
    "collapsed": true
   },
   "outputs": [],
   "source": [
    "leg_socmedia_table = Table.from_df(leg_socmedia_df)"
   ]
  },
  {
   "cell_type": "code",
   "execution_count": 16,
   "metadata": {
    "collapsed": false
   },
   "outputs": [
    {
     "data": {
      "text/html": [
       "<table border=\"1\" class=\"dataframe\">\n",
       "    <thead>\n",
       "        <tr>\n",
       "            <th>id</th> <th>social</th>\n",
       "        </tr>\n",
       "    </thead>\n",
       "    <tbody>\n",
       "        <tr>\n",
       "            <td>{'govtrack': 412664, 'bioguide': 'R000600', 'thomas': '0 ...</td> <td>{'twitter': 'RepAmata', 'facebook': 'congresswomanaumuaa ...</td>\n",
       "        </tr>\n",
       "    </tbody>\n",
       "        <tr>\n",
       "            <td>{'govtrack': 412645, 'bioguide': 'H001070', 'thomas': '0 ...</td> <td>{'twitter': 'RepHardy', 'twitter_id': 2964222544, 'youtu ...</td>\n",
       "        </tr>\n",
       "    </tbody>\n",
       "        <tr>\n",
       "            <td>{'govtrack': 412428, 'bioguide': 'Y000064', 'thomas': '0 ...</td> <td>{'twitter': 'RepToddYoung', 'twitter_id': 234128524, 'yo ...</td>\n",
       "        </tr>\n",
       "    </tbody>\n",
       "        <tr>\n",
       "            <td>{'govtrack': 412667, 'bioguide': 'E000295', 'thomas': '0 ...</td> <td>{'instagram_id': 1582702853, 'twitter': 'SenJoniErnst',  ...</td>\n",
       "        </tr>\n",
       "    </tbody>\n",
       "        <tr>\n",
       "            <td>{'govtrack': 412668, 'bioguide': 'T000476', 'thomas': '0 ...</td> <td>{'twitter': 'senthomtillis', 'facebook': 'SenatorThomTil ...</td>\n",
       "        </tr>\n",
       "    </tbody>\n",
       "        <tr>\n",
       "            <td>{'govtrack': 412430, 'bioguide': 'Y000063', 'thomas': '0 ...</td> <td>{'twitter': 'RepKevinYoder', 'twitter_id': 252819642, 'y ...</td>\n",
       "        </tr>\n",
       "    </tbody>\n",
       "        <tr>\n",
       "            <td>{'govtrack': 412211, 'bioguide': 'Y000062', 'thomas': '0 ...</td> <td>{'twitter': 'RepJohnYarmuth', 'twitter_id': 384913290, ' ...</td>\n",
       "        </tr>\n",
       "    </tbody>\n",
       "        <tr>\n",
       "            <td>{'govtrack': 400440, 'bioguide': 'Y000033', 'thomas': '0 ...</td> <td>{'twitter': 'RepDonYoung', 'twitter_id': 37007274, 'yout ...</td>\n",
       "        </tr>\n",
       "    </tbody>\n",
       "        <tr>\n",
       "            <td>{'govtrack': 412402, 'bioguide': 'W000809', 'thomas': '0 ...</td> <td>{'twitter': 'Rep_SteveWomack', 'twitter_id': 234469322,  ...</td>\n",
       "        </tr>\n",
       "    </tbody>\n",
       "        <tr>\n",
       "            <td>{'govtrack': 412412, 'bioguide': 'W000808', 'thomas': '0 ...</td> <td>{'twitter': 'RepWilson', 'twitter_id': 234014087, 'youtu ...</td>\n",
       "        </tr>\n",
       "    </tbody>\n",
       "</table>\n",
       "<p>... (529 rows omitted)</p"
      ],
      "text/plain": [
       "id                                                           | social\n",
       "{'govtrack': 412664, 'bioguide': 'R000600', 'thomas': '0 ... | {'twitter': 'RepAmata', 'facebook': 'congresswomanaumuaa ...\n",
       "{'govtrack': 412645, 'bioguide': 'H001070', 'thomas': '0 ... | {'twitter': 'RepHardy', 'twitter_id': 2964222544, 'youtu ...\n",
       "{'govtrack': 412428, 'bioguide': 'Y000064', 'thomas': '0 ... | {'twitter': 'RepToddYoung', 'twitter_id': 234128524, 'yo ...\n",
       "{'govtrack': 412667, 'bioguide': 'E000295', 'thomas': '0 ... | {'instagram_id': 1582702853, 'twitter': 'SenJoniErnst',  ...\n",
       "{'govtrack': 412668, 'bioguide': 'T000476', 'thomas': '0 ... | {'twitter': 'senthomtillis', 'facebook': 'SenatorThomTil ...\n",
       "{'govtrack': 412430, 'bioguide': 'Y000063', 'thomas': '0 ... | {'twitter': 'RepKevinYoder', 'twitter_id': 252819642, 'y ...\n",
       "{'govtrack': 412211, 'bioguide': 'Y000062', 'thomas': '0 ... | {'twitter': 'RepJohnYarmuth', 'twitter_id': 384913290, ' ...\n",
       "{'govtrack': 400440, 'bioguide': 'Y000033', 'thomas': '0 ... | {'twitter': 'RepDonYoung', 'twitter_id': 37007274, 'yout ...\n",
       "{'govtrack': 412402, 'bioguide': 'W000809', 'thomas': '0 ... | {'twitter': 'Rep_SteveWomack', 'twitter_id': 234469322,  ...\n",
       "{'govtrack': 412412, 'bioguide': 'W000808', 'thomas': '0 ... | {'twitter': 'RepWilson', 'twitter_id': 234014087, 'youtu ...\n",
       "... (529 rows omitted)"
      ]
     },
     "execution_count": 16,
     "metadata": {},
     "output_type": "execute_result"
    }
   ],
   "source": [
    "leg_socmedia_table"
   ]
  }
 ],
 "metadata": {
  "kernelspec": {
   "display_name": "Python 3",
   "language": "python",
   "name": "python3"
  },
  "language_info": {
   "codemirror_mode": {
    "name": "ipython",
    "version": 3
   },
   "file_extension": ".py",
   "mimetype": "text/x-python",
   "name": "python",
   "nbconvert_exporter": "python",
   "pygments_lexer": "ipython3",
   "version": "3.5.2"
  }
 },
 "nbformat": 4,
 "nbformat_minor": 1
}
