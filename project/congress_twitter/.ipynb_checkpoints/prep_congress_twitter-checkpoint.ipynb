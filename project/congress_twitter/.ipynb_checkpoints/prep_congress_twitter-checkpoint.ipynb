{
 "cells": [
  {
   "cell_type": "code",
   "execution_count": 91,
   "metadata": {
    "collapsed": true
   },
   "outputs": [],
   "source": [
    "import networkx as nx\n",
    "from pickle import *\n",
    "import numpy as np\n",
    "import pandas as pd\n",
    "from pandas.io.json import json_normalize\n",
    "import json\n",
    "import yaml"
   ]
  },
  {
   "cell_type": "markdown",
   "metadata": {},
   "source": [
    "## Overview: Members of Congress on Twitter"
   ]
  },
  {
   "cell_type": "markdown",
   "metadata": {},
   "source": [
    "CSPAN maintains [a list](https://twitter.com/cspan/lists/members-of-congress?lang=en) of Twitter accounts of Members of Congress.  By scraping information about those accounts, we can produce a dataset consisting of:\n",
    "\n",
    "* basic account information for each MOC\n",
    "* the network of who follows whom among MOC"
   ]
  },
  {
   "cell_type": "markdown",
   "metadata": {},
   "source": [
    "### Twitter account info on the legislators"
   ]
  },
  {
   "cell_type": "markdown",
   "metadata": {},
   "source": [
    "The first part of these data consists of publicly available  information about each of these Twitter accounts. Most of these fields are self-explanatory, but you can see more about the API [here](https://dev.twitter.com/rest/reference/get/users/lookup).\n",
    "\n",
    "If you have questions or figure something interesting out about the dataset, tell us all about it on Piazza!"
   ]
  },
  {
   "cell_type": "code",
   "execution_count": 3,
   "metadata": {
    "collapsed": true
   },
   "outputs": [],
   "source": [
    "congress_members = load(open('data/congress_list_members.pickle', 'rb'))"
   ]
  },
  {
   "cell_type": "code",
   "execution_count": 136,
   "metadata": {
    "collapsed": true
   },
   "outputs": [],
   "source": [
    "congress_member_data = pd.DataFrame([x._json for x in congress_members])"
   ]
  },
  {
   "cell_type": "code",
   "execution_count": 137,
   "metadata": {
    "collapsed": false
   },
   "outputs": [
    {
     "data": {
      "text/html": [
       "<div>\n",
       "<table border=\"1\" class=\"dataframe\">\n",
       "  <thead>\n",
       "    <tr style=\"text-align: right;\">\n",
       "      <th></th>\n",
       "      <th>contributors_enabled</th>\n",
       "      <th>created_at</th>\n",
       "      <th>default_profile</th>\n",
       "      <th>default_profile_image</th>\n",
       "      <th>description</th>\n",
       "      <th>entities</th>\n",
       "      <th>favourites_count</th>\n",
       "      <th>follow_request_sent</th>\n",
       "      <th>followers_count</th>\n",
       "      <th>following</th>\n",
       "      <th>...</th>\n",
       "      <th>profile_text_color</th>\n",
       "      <th>profile_use_background_image</th>\n",
       "      <th>protected</th>\n",
       "      <th>screen_name</th>\n",
       "      <th>status</th>\n",
       "      <th>statuses_count</th>\n",
       "      <th>time_zone</th>\n",
       "      <th>url</th>\n",
       "      <th>utc_offset</th>\n",
       "      <th>verified</th>\n",
       "    </tr>\n",
       "  </thead>\n",
       "  <tbody>\n",
       "    <tr>\n",
       "      <th>0</th>\n",
       "      <td>False</td>\n",
       "      <td>Tue Jun 28 14:57:49 +0000 2016</td>\n",
       "      <td>True</td>\n",
       "      <td>False</td>\n",
       "      <td>Representing MA's 7th District in the U.S. Hou...</td>\n",
       "      <td>{'url': {'urls': [{'url': 'https://t.co/3ljoXJ...</td>\n",
       "      <td>9</td>\n",
       "      <td>False</td>\n",
       "      <td>1621</td>\n",
       "      <td>False</td>\n",
       "      <td>...</td>\n",
       "      <td>333333</td>\n",
       "      <td>True</td>\n",
       "      <td>False</td>\n",
       "      <td>RepMikeCapuano</td>\n",
       "      <td>{'lang': 'en', 'id': 787971427538460672, 'coor...</td>\n",
       "      <td>35</td>\n",
       "      <td>Eastern Time (US &amp; Canada)</td>\n",
       "      <td>https://t.co/3ljoXJRbEf</td>\n",
       "      <td>-14400.0</td>\n",
       "      <td>True</td>\n",
       "    </tr>\n",
       "    <tr>\n",
       "      <th>1</th>\n",
       "      <td>False</td>\n",
       "      <td>Thu Feb 19 20:08:54 +0000 2015</td>\n",
       "      <td>True</td>\n",
       "      <td>False</td>\n",
       "      <td>Representing California's 33rd District in Con...</td>\n",
       "      <td>{'url': {'urls': [{'url': 'https://t.co/SFF1Hj...</td>\n",
       "      <td>100</td>\n",
       "      <td>False</td>\n",
       "      <td>6692</td>\n",
       "      <td>False</td>\n",
       "      <td>...</td>\n",
       "      <td>333333</td>\n",
       "      <td>True</td>\n",
       "      <td>False</td>\n",
       "      <td>RepTedLieu</td>\n",
       "      <td>{'lang': 'en', 'id': 788163021860380672, 'coor...</td>\n",
       "      <td>1924</td>\n",
       "      <td>Eastern Time (US &amp; Canada)</td>\n",
       "      <td>https://t.co/SFF1Hjj9ww</td>\n",
       "      <td>-14400.0</td>\n",
       "      <td>True</td>\n",
       "    </tr>\n",
       "    <tr>\n",
       "      <th>2</th>\n",
       "      <td>False</td>\n",
       "      <td>Mon Feb 09 16:00:36 +0000 2015</td>\n",
       "      <td>False</td>\n",
       "      <td>False</td>\n",
       "      <td>Congresswoman Representing American Samoa</td>\n",
       "      <td>{'url': {'urls': [{'url': 'http://t.co/L7B6x0y...</td>\n",
       "      <td>0</td>\n",
       "      <td>False</td>\n",
       "      <td>494</td>\n",
       "      <td>False</td>\n",
       "      <td>...</td>\n",
       "      <td>000000</td>\n",
       "      <td>False</td>\n",
       "      <td>False</td>\n",
       "      <td>RepAmata</td>\n",
       "      <td>{'lang': 'en', 'id': 564820451508383746, 'coor...</td>\n",
       "      <td>1</td>\n",
       "      <td>None</td>\n",
       "      <td>http://t.co/L7B6x0yzTS</td>\n",
       "      <td>NaN</td>\n",
       "      <td>True</td>\n",
       "    </tr>\n",
       "    <tr>\n",
       "      <th>3</th>\n",
       "      <td>False</td>\n",
       "      <td>Wed Feb 04 21:01:23 +0000 2015</td>\n",
       "      <td>True</td>\n",
       "      <td>False</td>\n",
       "      <td>Pete Aguilar represents CA’s 31st Congressiona...</td>\n",
       "      <td>{'url': {'urls': [{'url': 'http://t.co/o4deRoU...</td>\n",
       "      <td>1</td>\n",
       "      <td>False</td>\n",
       "      <td>2894</td>\n",
       "      <td>False</td>\n",
       "      <td>...</td>\n",
       "      <td>333333</td>\n",
       "      <td>True</td>\n",
       "      <td>False</td>\n",
       "      <td>RepPeteAguilar</td>\n",
       "      <td>{'lang': 'en', 'id': 788120934544703489, 'coor...</td>\n",
       "      <td>731</td>\n",
       "      <td>None</td>\n",
       "      <td>http://t.co/o4deRoUnuK</td>\n",
       "      <td>NaN</td>\n",
       "      <td>True</td>\n",
       "    </tr>\n",
       "    <tr>\n",
       "      <th>4</th>\n",
       "      <td>False</td>\n",
       "      <td>Tue Jan 13 15:08:48 +0000 2015</td>\n",
       "      <td>False</td>\n",
       "      <td>False</td>\n",
       "      <td>U.S. Congressman (WI-06)</td>\n",
       "      <td>{'url': {'urls': [{'url': 'http://t.co/MY3WTta...</td>\n",
       "      <td>13</td>\n",
       "      <td>False</td>\n",
       "      <td>1752</td>\n",
       "      <td>False</td>\n",
       "      <td>...</td>\n",
       "      <td>000000</td>\n",
       "      <td>False</td>\n",
       "      <td>False</td>\n",
       "      <td>RepGrothman</td>\n",
       "      <td>{'lang': 'en', 'id': 788387900505387009, 'coor...</td>\n",
       "      <td>422</td>\n",
       "      <td>None</td>\n",
       "      <td>http://t.co/MY3WTtaAeb</td>\n",
       "      <td>NaN</td>\n",
       "      <td>True</td>\n",
       "    </tr>\n",
       "  </tbody>\n",
       "</table>\n",
       "<p>5 rows × 42 columns</p>\n",
       "</div>"
      ],
      "text/plain": [
       "  contributors_enabled                      created_at default_profile  \\\n",
       "0                False  Tue Jun 28 14:57:49 +0000 2016            True   \n",
       "1                False  Thu Feb 19 20:08:54 +0000 2015            True   \n",
       "2                False  Mon Feb 09 16:00:36 +0000 2015           False   \n",
       "3                False  Wed Feb 04 21:01:23 +0000 2015            True   \n",
       "4                False  Tue Jan 13 15:08:48 +0000 2015           False   \n",
       "\n",
       "  default_profile_image                                        description  \\\n",
       "0                 False  Representing MA's 7th District in the U.S. Hou...   \n",
       "1                 False  Representing California's 33rd District in Con...   \n",
       "2                 False          Congresswoman Representing American Samoa   \n",
       "3                 False  Pete Aguilar represents CA’s 31st Congressiona...   \n",
       "4                 False                           U.S. Congressman (WI-06)   \n",
       "\n",
       "                                            entities  favourites_count  \\\n",
       "0  {'url': {'urls': [{'url': 'https://t.co/3ljoXJ...                 9   \n",
       "1  {'url': {'urls': [{'url': 'https://t.co/SFF1Hj...               100   \n",
       "2  {'url': {'urls': [{'url': 'http://t.co/L7B6x0y...                 0   \n",
       "3  {'url': {'urls': [{'url': 'http://t.co/o4deRoU...                 1   \n",
       "4  {'url': {'urls': [{'url': 'http://t.co/MY3WTta...                13   \n",
       "\n",
       "  follow_request_sent  followers_count following   ...     profile_text_color  \\\n",
       "0               False             1621     False   ...                 333333   \n",
       "1               False             6692     False   ...                 333333   \n",
       "2               False              494     False   ...                 000000   \n",
       "3               False             2894     False   ...                 333333   \n",
       "4               False             1752     False   ...                 000000   \n",
       "\n",
       "  profile_use_background_image protected     screen_name  \\\n",
       "0                         True     False  RepMikeCapuano   \n",
       "1                         True     False      RepTedLieu   \n",
       "2                        False     False        RepAmata   \n",
       "3                         True     False  RepPeteAguilar   \n",
       "4                        False     False     RepGrothman   \n",
       "\n",
       "                                              status statuses_count  \\\n",
       "0  {'lang': 'en', 'id': 787971427538460672, 'coor...             35   \n",
       "1  {'lang': 'en', 'id': 788163021860380672, 'coor...           1924   \n",
       "2  {'lang': 'en', 'id': 564820451508383746, 'coor...              1   \n",
       "3  {'lang': 'en', 'id': 788120934544703489, 'coor...            731   \n",
       "4  {'lang': 'en', 'id': 788387900505387009, 'coor...            422   \n",
       "\n",
       "                    time_zone                      url  utc_offset verified  \n",
       "0  Eastern Time (US & Canada)  https://t.co/3ljoXJRbEf    -14400.0     True  \n",
       "1  Eastern Time (US & Canada)  https://t.co/SFF1Hjj9ww    -14400.0     True  \n",
       "2                        None   http://t.co/L7B6x0yzTS         NaN     True  \n",
       "3                        None   http://t.co/o4deRoUnuK         NaN     True  \n",
       "4                        None   http://t.co/MY3WTtaAeb         NaN     True  \n",
       "\n",
       "[5 rows x 42 columns]"
      ]
     },
     "execution_count": 137,
     "metadata": {},
     "output_type": "execute_result"
    }
   ],
   "source": [
    "congress_member_data.head()"
   ]
  },
  {
   "cell_type": "markdown",
   "metadata": {},
   "source": [
    "We'll save these data to a file so that they can be opened up for further analysis in other notebooks."
   ]
  },
  {
   "cell_type": "code",
   "execution_count": 90,
   "metadata": {
    "collapsed": true
   },
   "outputs": [],
   "source": [
    "congress_member_data.to_csv(\"congress_member_data.csv\")"
   ]
  },
  {
   "cell_type": "markdown",
   "metadata": {},
   "source": [
    "### Who follows whom network among the Members of Congress"
   ]
  },
  {
   "cell_type": "markdown",
   "metadata": {},
   "source": [
    "By scraping the list of all of the people each Member of Congress publicly follows, we can build a network of who follows whom among MOC.\n",
    "\n",
    "We'll open that file up here."
   ]
  },
  {
   "cell_type": "code",
   "execution_count": 131,
   "metadata": {
    "collapsed": true
   },
   "outputs": [],
   "source": [
    "congress_friends = load(open('data/congress_friends_all.pickle', 'rb'))"
   ]
  },
  {
   "cell_type": "code",
   "execution_count": 132,
   "metadata": {
    "collapsed": true
   },
   "outputs": [],
   "source": [
    "cong_ids = congress_friends.keys()"
   ]
  },
  {
   "cell_type": "code",
   "execution_count": 134,
   "metadata": {
    "collapsed": false
   },
   "outputs": [],
   "source": [
    "congress_edges = []\n",
    "\n",
    "for cong_id in congress_friends.keys():\n",
    "    alters = congress_friends[cong_id]\n",
    "    alters = [x for x in alters if x in cong_ids]\n",
    "    \n",
    "    for a in alters:\n",
    "        congress_edges.append((cong_id, a))\n",
    "    "
   ]
  },
  {
   "cell_type": "code",
   "execution_count": 135,
   "metadata": {
    "collapsed": true
   },
   "outputs": [],
   "source": [
    "cong_twitter_net = nx.Graph(congress_edges)"
   ]
  },
  {
   "cell_type": "code",
   "execution_count": 138,
   "metadata": {
    "collapsed": false
   },
   "outputs": [
    {
     "data": {
      "text/plain": [
       "0.6634751613749071"
      ]
     },
     "execution_count": 138,
     "metadata": {},
     "output_type": "execute_result"
    }
   ],
   "source": [
    "nx.average_clustering(cong_twitter_net)"
   ]
  },
  {
   "cell_type": "code",
   "execution_count": 139,
   "metadata": {
    "collapsed": false
   },
   "outputs": [
    {
     "data": {
      "text/plain": [
       "1"
      ]
     },
     "execution_count": 139,
     "metadata": {},
     "output_type": "execute_result"
    }
   ],
   "source": [
    "nx.number_connected_components(cong_twitter_net)"
   ]
  },
  {
   "cell_type": "markdown",
   "metadata": {},
   "source": [
    "Finally, we'll save the congress twitter edgelist so that you can easily open it up in other notebooks.\n",
    "\n",
    "We'll use the format:\n",
    "\n",
    "twitter ID of first MOC, twitter ID of second MOC"
   ]
  },
  {
   "cell_type": "code",
   "execution_count": 127,
   "metadata": {
    "collapsed": false
   },
   "outputs": [],
   "source": [
    "with open(\"congress_twitter_edges.csv\", \"w\") as f:\n",
    "    f.write(\"twitter_id1, twitter_id2\\n\")\n",
    "    for e in congress_edges:\n",
    "        f.write(str(e[0]) + \", \" + str(e[1]) + \"\\n\")"
   ]
  }
 ],
 "metadata": {
  "kernelspec": {
   "display_name": "Python 3",
   "language": "python",
   "name": "python3"
  },
  "language_info": {
   "codemirror_mode": {
    "name": "ipython",
    "version": 3
   },
   "file_extension": ".py",
   "mimetype": "text/x-python",
   "name": "python",
   "nbconvert_exporter": "python",
   "pygments_lexer": "ipython3",
   "version": "3.5.2"
  }
 },
 "nbformat": 4,
 "nbformat_minor": 1
}
