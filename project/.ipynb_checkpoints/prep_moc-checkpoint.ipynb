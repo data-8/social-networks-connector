{
 "cells": [
  {
   "cell_type": "code",
   "execution_count": 1,
   "metadata": {
    "collapsed": true
   },
   "outputs": [],
   "source": [
    "import networkx as nx\n",
    "from pickle import *\n",
    "import numpy as np\n",
    "import pandas as pd\n",
    "from pandas.io.json import json_normalize\n",
    "import json\n",
    "import yaml\n",
    "from datascience import *"
   ]
  },
  {
   "cell_type": "markdown",
   "metadata": {},
   "source": [
    "## Overview: Data on Members of Congress"
   ]
  },
  {
   "cell_type": "markdown",
   "metadata": {},
   "source": [
    "Both the Twitter data and the bill co-sponsorship data contain information about connections between Members of Congress.  The repository [https://github.com/unitedstates/congress-legislators](https://github.com/unitedstates/congress-legislators) has collected lots of useful additional information about each MOC. Here, we'll illustrate how to open up a couple of the datafiles.\n",
    "\n",
    "The important files are stored in `yaml` (yet another markup language) format. You can use the `yaml` package (which we imported above) to read in yaml data. There are a couple of examples below (and note that the repository has additional files that we won't explore here).\n",
    "\n",
    "If you have questions or figure something interesting out about the dataset, tell us all about it on Piazza!"
   ]
  },
  {
   "cell_type": "markdown",
   "metadata": {},
   "source": [
    "### Biographical information"
   ]
  },
  {
   "cell_type": "code",
   "execution_count": 2,
   "metadata": {
    "collapsed": true
   },
   "outputs": [],
   "source": [
    "# information on current legislators\n",
    "leg_current = yaml.load(open('congress-legislators/legislators-current.yaml', 'r'))"
   ]
  },
  {
   "cell_type": "code",
   "execution_count": 3,
   "metadata": {
    "collapsed": true
   },
   "outputs": [],
   "source": [
    "leg_current_df = pd.DataFrame(leg_current)"
   ]
  },
  {
   "cell_type": "code",
   "execution_count": 4,
   "metadata": {
    "collapsed": false
   },
   "outputs": [
    {
     "data": {
      "text/html": [
       "<div>\n",
       "<table border=\"1\" class=\"dataframe\">\n",
       "  <thead>\n",
       "    <tr style=\"text-align: right;\">\n",
       "      <th></th>\n",
       "      <th>bio</th>\n",
       "      <th>family</th>\n",
       "      <th>id</th>\n",
       "      <th>leadership_roles</th>\n",
       "      <th>name</th>\n",
       "      <th>other_names</th>\n",
       "      <th>terms</th>\n",
       "    </tr>\n",
       "  </thead>\n",
       "  <tbody>\n",
       "    <tr>\n",
       "      <th>0</th>\n",
       "      <td>{'gender': 'M', 'birthday': '1952-11-09', 'rel...</td>\n",
       "      <td>NaN</td>\n",
       "      <td>{'ballotpedia': 'Sherrod Brown', 'govtrack': 4...</td>\n",
       "      <td>NaN</td>\n",
       "      <td>{'last': 'Brown', 'first': 'Sherrod', 'officia...</td>\n",
       "      <td>NaN</td>\n",
       "      <td>[{'type': 'rep', 'state': 'OH', 'party': 'Demo...</td>\n",
       "    </tr>\n",
       "    <tr>\n",
       "      <th>1</th>\n",
       "      <td>{'gender': 'F', 'birthday': '1958-10-13', 'rel...</td>\n",
       "      <td>NaN</td>\n",
       "      <td>{'ballotpedia': 'Maria Cantwell', 'govtrack': ...</td>\n",
       "      <td>NaN</td>\n",
       "      <td>{'last': 'Cantwell', 'first': 'Maria', 'offici...</td>\n",
       "      <td>NaN</td>\n",
       "      <td>[{'type': 'rep', 'state': 'WA', 'party': 'Demo...</td>\n",
       "    </tr>\n",
       "    <tr>\n",
       "      <th>2</th>\n",
       "      <td>{'gender': 'M', 'birthday': '1943-10-05', 'rel...</td>\n",
       "      <td>NaN</td>\n",
       "      <td>{'ballotpedia': 'Ben Cardin', 'govtrack': 4000...</td>\n",
       "      <td>NaN</td>\n",
       "      <td>{'last': 'Cardin', 'first': 'Benjamin', 'middl...</td>\n",
       "      <td>NaN</td>\n",
       "      <td>[{'type': 'rep', 'state': 'MD', 'party': 'Demo...</td>\n",
       "    </tr>\n",
       "    <tr>\n",
       "      <th>3</th>\n",
       "      <td>{'gender': 'M', 'birthday': '1947-01-23', 'rel...</td>\n",
       "      <td>NaN</td>\n",
       "      <td>{'ballotpedia': 'Tom Carper', 'govtrack': 3000...</td>\n",
       "      <td>NaN</td>\n",
       "      <td>{'last': 'Carper', 'first': 'Thomas', 'middle'...</td>\n",
       "      <td>NaN</td>\n",
       "      <td>[{'type': 'rep', 'state': 'DE', 'party': 'Demo...</td>\n",
       "    </tr>\n",
       "    <tr>\n",
       "      <th>4</th>\n",
       "      <td>{'gender': 'M', 'birthday': '1960-04-13'}</td>\n",
       "      <td>NaN</td>\n",
       "      <td>{'ballotpedia': 'Bob Casey, Jr.', 'govtrack': ...</td>\n",
       "      <td>NaN</td>\n",
       "      <td>{'last': 'Casey', 'middle': 'P.', 'nickname': ...</td>\n",
       "      <td>NaN</td>\n",
       "      <td>[{'phone': '202-224-6324', 'state': 'PA', 'cla...</td>\n",
       "    </tr>\n",
       "  </tbody>\n",
       "</table>\n",
       "</div>"
      ],
      "text/plain": [
       "                                                 bio family  \\\n",
       "0  {'gender': 'M', 'birthday': '1952-11-09', 'rel...    NaN   \n",
       "1  {'gender': 'F', 'birthday': '1958-10-13', 'rel...    NaN   \n",
       "2  {'gender': 'M', 'birthday': '1943-10-05', 'rel...    NaN   \n",
       "3  {'gender': 'M', 'birthday': '1947-01-23', 'rel...    NaN   \n",
       "4          {'gender': 'M', 'birthday': '1960-04-13'}    NaN   \n",
       "\n",
       "                                                  id leadership_roles  \\\n",
       "0  {'ballotpedia': 'Sherrod Brown', 'govtrack': 4...              NaN   \n",
       "1  {'ballotpedia': 'Maria Cantwell', 'govtrack': ...              NaN   \n",
       "2  {'ballotpedia': 'Ben Cardin', 'govtrack': 4000...              NaN   \n",
       "3  {'ballotpedia': 'Tom Carper', 'govtrack': 3000...              NaN   \n",
       "4  {'ballotpedia': 'Bob Casey, Jr.', 'govtrack': ...              NaN   \n",
       "\n",
       "                                                name other_names  \\\n",
       "0  {'last': 'Brown', 'first': 'Sherrod', 'officia...         NaN   \n",
       "1  {'last': 'Cantwell', 'first': 'Maria', 'offici...         NaN   \n",
       "2  {'last': 'Cardin', 'first': 'Benjamin', 'middl...         NaN   \n",
       "3  {'last': 'Carper', 'first': 'Thomas', 'middle'...         NaN   \n",
       "4  {'last': 'Casey', 'middle': 'P.', 'nickname': ...         NaN   \n",
       "\n",
       "                                               terms  \n",
       "0  [{'type': 'rep', 'state': 'OH', 'party': 'Demo...  \n",
       "1  [{'type': 'rep', 'state': 'WA', 'party': 'Demo...  \n",
       "2  [{'type': 'rep', 'state': 'MD', 'party': 'Demo...  \n",
       "3  [{'type': 'rep', 'state': 'DE', 'party': 'Demo...  \n",
       "4  [{'phone': '202-224-6324', 'state': 'PA', 'cla...  "
      ]
     },
     "execution_count": 4,
     "metadata": {},
     "output_type": "execute_result"
    }
   ],
   "source": [
    "leg_current_df.head()"
   ]
  },
  {
   "cell_type": "markdown",
   "metadata": {},
   "source": [
    "### Social media information"
   ]
  },
  {
   "cell_type": "markdown",
   "metadata": {},
   "source": [
    "NOTE: the curators of these data say that they are careful to only include official (and not campaign-related) social media accounts. So there may be some difference between the Twitter accounts listed here and the Twitter accounts that we grabbed using CSPAN's list."
   ]
  },
  {
   "cell_type": "code",
   "execution_count": 5,
   "metadata": {
    "collapsed": true
   },
   "outputs": [],
   "source": [
    "# information on social media accounts of legislators\n",
    "leg_socmedia = yaml.load(open('congress-legislators/legislators-social-media.yaml', 'r'))"
   ]
  },
  {
   "cell_type": "markdown",
   "metadata": {},
   "source": [
    "We can see that `yaml.load` gives us a dictionary."
   ]
  },
  {
   "cell_type": "code",
   "execution_count": 6,
   "metadata": {
    "collapsed": false
   },
   "outputs": [
    {
     "data": {
      "text/plain": [
       "{'id': {'bioguide': 'R000600', 'govtrack': 412664, 'thomas': '02222'},\n",
       " 'social': {'facebook': 'congresswomanaumuaamata',\n",
       "  'facebook_id': '1537155909907320',\n",
       "  'twitter': 'RepAmata',\n",
       "  'twitter_id': 3026622545,\n",
       "  'youtube_id': 'UCGdrLQbt1PYDTPsampx4t1A'}}"
      ]
     },
     "execution_count": 6,
     "metadata": {},
     "output_type": "execute_result"
    }
   ],
   "source": [
    "leg_socmedia[0]"
   ]
  },
  {
   "cell_type": "markdown",
   "metadata": {},
   "source": [
    "We can convert the dictionary to a pandas DataFrame like so:"
   ]
  },
  {
   "cell_type": "code",
   "execution_count": 7,
   "metadata": {
    "collapsed": true
   },
   "outputs": [],
   "source": [
    "leg_socmedia_df = pd.DataFrame(leg_socmedia)"
   ]
  },
  {
   "cell_type": "code",
   "execution_count": 8,
   "metadata": {
    "collapsed": false
   },
   "outputs": [
    {
     "data": {
      "text/html": [
       "<div>\n",
       "<table border=\"1\" class=\"dataframe\">\n",
       "  <thead>\n",
       "    <tr style=\"text-align: right;\">\n",
       "      <th></th>\n",
       "      <th>id</th>\n",
       "      <th>social</th>\n",
       "    </tr>\n",
       "  </thead>\n",
       "  <tbody>\n",
       "    <tr>\n",
       "      <th>0</th>\n",
       "      <td>{'bioguide': 'R000600', 'thomas': '02222', 'go...</td>\n",
       "      <td>{'youtube_id': 'UCGdrLQbt1PYDTPsampx4t1A', 'fa...</td>\n",
       "    </tr>\n",
       "    <tr>\n",
       "      <th>1</th>\n",
       "      <td>{'bioguide': 'H001070', 'thomas': '02260', 'go...</td>\n",
       "      <td>{'youtube_id': 'UCc8E6NWCdgrXjBVI2NNPYdA', 'yo...</td>\n",
       "    </tr>\n",
       "    <tr>\n",
       "      <th>2</th>\n",
       "      <td>{'bioguide': 'Y000064', 'thomas': '02019', 'go...</td>\n",
       "      <td>{'youtube_id': 'UCuknj4PGn91gHDNAfboZEgQ', 'yo...</td>\n",
       "    </tr>\n",
       "    <tr>\n",
       "      <th>3</th>\n",
       "      <td>{'bioguide': 'E000295', 'thomas': '02283', 'go...</td>\n",
       "      <td>{'youtube_id': 'UCLwrmtF_84FIcK3TyMs4MIw', 'in...</td>\n",
       "    </tr>\n",
       "    <tr>\n",
       "      <th>4</th>\n",
       "      <td>{'bioguide': 'T000476', 'thomas': '02291', 'go...</td>\n",
       "      <td>{'youtube_id': 'UCUD9VGV4SSGWjGdbn37Ea2w', 'fa...</td>\n",
       "    </tr>\n",
       "  </tbody>\n",
       "</table>\n",
       "</div>"
      ],
      "text/plain": [
       "                                                  id  \\\n",
       "0  {'bioguide': 'R000600', 'thomas': '02222', 'go...   \n",
       "1  {'bioguide': 'H001070', 'thomas': '02260', 'go...   \n",
       "2  {'bioguide': 'Y000064', 'thomas': '02019', 'go...   \n",
       "3  {'bioguide': 'E000295', 'thomas': '02283', 'go...   \n",
       "4  {'bioguide': 'T000476', 'thomas': '02291', 'go...   \n",
       "\n",
       "                                              social  \n",
       "0  {'youtube_id': 'UCGdrLQbt1PYDTPsampx4t1A', 'fa...  \n",
       "1  {'youtube_id': 'UCc8E6NWCdgrXjBVI2NNPYdA', 'yo...  \n",
       "2  {'youtube_id': 'UCuknj4PGn91gHDNAfboZEgQ', 'yo...  \n",
       "3  {'youtube_id': 'UCLwrmtF_84FIcK3TyMs4MIw', 'in...  \n",
       "4  {'youtube_id': 'UCUD9VGV4SSGWjGdbn37Ea2w', 'fa...  "
      ]
     },
     "execution_count": 8,
     "metadata": {},
     "output_type": "execute_result"
    }
   ],
   "source": [
    "leg_socmedia_df.head()"
   ]
  },
  {
   "cell_type": "markdown",
   "metadata": {},
   "source": [
    "And we can convert the pandas DataFrame into a datascience Table like this:"
   ]
  },
  {
   "cell_type": "code",
   "execution_count": 9,
   "metadata": {
    "collapsed": true
   },
   "outputs": [],
   "source": [
    "leg_socmedia_table = Table.from_df(leg_socmedia_df)"
   ]
  },
  {
   "cell_type": "code",
   "execution_count": 10,
   "metadata": {
    "collapsed": false
   },
   "outputs": [
    {
     "data": {
      "text/html": [
       "<table border=\"1\" class=\"dataframe\">\n",
       "    <thead>\n",
       "        <tr>\n",
       "            <th>id</th> <th>social</th>\n",
       "        </tr>\n",
       "    </thead>\n",
       "    <tbody>\n",
       "        <tr>\n",
       "            <td>{'bioguide': 'R000600', 'thomas': '02222', 'govtrack': 4 ...</td> <td>{'youtube_id': 'UCGdrLQbt1PYDTPsampx4t1A', 'facebook': ' ...</td>\n",
       "        </tr>\n",
       "    </tbody>\n",
       "        <tr>\n",
       "            <td>{'bioguide': 'H001070', 'thomas': '02260', 'govtrack': 4 ...</td> <td>{'youtube_id': 'UCc8E6NWCdgrXjBVI2NNPYdA', 'youtube': 'R ...</td>\n",
       "        </tr>\n",
       "    </tbody>\n",
       "        <tr>\n",
       "            <td>{'bioguide': 'Y000064', 'thomas': '02019', 'govtrack': 4 ...</td> <td>{'youtube_id': 'UCuknj4PGn91gHDNAfboZEgQ', 'youtube': 'R ...</td>\n",
       "        </tr>\n",
       "    </tbody>\n",
       "        <tr>\n",
       "            <td>{'bioguide': 'E000295', 'thomas': '02283', 'govtrack': 4 ...</td> <td>{'youtube_id': 'UCLwrmtF_84FIcK3TyMs4MIw', 'instagram_id ...</td>\n",
       "        </tr>\n",
       "    </tbody>\n",
       "        <tr>\n",
       "            <td>{'bioguide': 'T000476', 'thomas': '02291', 'govtrack': 4 ...</td> <td>{'youtube_id': 'UCUD9VGV4SSGWjGdbn37Ea2w', 'facebook': ' ...</td>\n",
       "        </tr>\n",
       "    </tbody>\n",
       "        <tr>\n",
       "            <td>{'bioguide': 'Y000063', 'thomas': '02021', 'govtrack': 4 ...</td> <td>{'youtube_id': 'UCCeYmn4A8kZEHCcAfeUW9lQ', 'youtube': 'R ...</td>\n",
       "        </tr>\n",
       "    </tbody>\n",
       "        <tr>\n",
       "            <td>{'bioguide': 'Y000062', 'thomas': '01853', 'govtrack': 4 ...</td> <td>{'youtube_id': 'UCy5KW4yrEfEiyZRX45Eoxkg', 'youtube': 'R ...</td>\n",
       "        </tr>\n",
       "    </tbody>\n",
       "        <tr>\n",
       "            <td>{'bioguide': 'Y000033', 'thomas': '01256', 'govtrack': 4 ...</td> <td>{'youtube_id': 'UCg5ZIR5-82EbJiNeI1bqT-A', 'youtube': 'R ...</td>\n",
       "        </tr>\n",
       "    </tbody>\n",
       "        <tr>\n",
       "            <td>{'bioguide': 'W000809', 'thomas': '01991', 'govtrack': 4 ...</td> <td>{'youtube_id': 'UCXJbUDLYX-wGIhRuN66hqZw', 'youtube': 'C ...</td>\n",
       "        </tr>\n",
       "    </tbody>\n",
       "        <tr>\n",
       "            <td>{'bioguide': 'W000808', 'thomas': '02004', 'govtrack': 4 ...</td> <td>{'youtube_id': 'UCP5QBhng_lHv-vJgE_h7lpA', 'youtube': 'r ...</td>\n",
       "        </tr>\n",
       "    </tbody>\n",
       "</table>\n",
       "<p>... (529 rows omitted)</p"
      ],
      "text/plain": [
       "id                                                           | social\n",
       "{'bioguide': 'R000600', 'thomas': '02222', 'govtrack': 4 ... | {'youtube_id': 'UCGdrLQbt1PYDTPsampx4t1A', 'facebook': ' ...\n",
       "{'bioguide': 'H001070', 'thomas': '02260', 'govtrack': 4 ... | {'youtube_id': 'UCc8E6NWCdgrXjBVI2NNPYdA', 'youtube': 'R ...\n",
       "{'bioguide': 'Y000064', 'thomas': '02019', 'govtrack': 4 ... | {'youtube_id': 'UCuknj4PGn91gHDNAfboZEgQ', 'youtube': 'R ...\n",
       "{'bioguide': 'E000295', 'thomas': '02283', 'govtrack': 4 ... | {'youtube_id': 'UCLwrmtF_84FIcK3TyMs4MIw', 'instagram_id ...\n",
       "{'bioguide': 'T000476', 'thomas': '02291', 'govtrack': 4 ... | {'youtube_id': 'UCUD9VGV4SSGWjGdbn37Ea2w', 'facebook': ' ...\n",
       "{'bioguide': 'Y000063', 'thomas': '02021', 'govtrack': 4 ... | {'youtube_id': 'UCCeYmn4A8kZEHCcAfeUW9lQ', 'youtube': 'R ...\n",
       "{'bioguide': 'Y000062', 'thomas': '01853', 'govtrack': 4 ... | {'youtube_id': 'UCy5KW4yrEfEiyZRX45Eoxkg', 'youtube': 'R ...\n",
       "{'bioguide': 'Y000033', 'thomas': '01256', 'govtrack': 4 ... | {'youtube_id': 'UCg5ZIR5-82EbJiNeI1bqT-A', 'youtube': 'R ...\n",
       "{'bioguide': 'W000809', 'thomas': '01991', 'govtrack': 4 ... | {'youtube_id': 'UCXJbUDLYX-wGIhRuN66hqZw', 'youtube': 'C ...\n",
       "{'bioguide': 'W000808', 'thomas': '02004', 'govtrack': 4 ... | {'youtube_id': 'UCP5QBhng_lHv-vJgE_h7lpA', 'youtube': 'r ...\n",
       "... (529 rows omitted)"
      ]
     },
     "execution_count": 10,
     "metadata": {},
     "output_type": "execute_result"
    }
   ],
   "source": [
    "leg_socmedia_table"
   ]
  },
  {
   "cell_type": "code",
   "execution_count": null,
   "metadata": {
    "collapsed": true
   },
   "outputs": [],
   "source": []
  }
 ],
 "metadata": {
  "kernelspec": {
   "display_name": "Python 3",
   "language": "python",
   "name": "python3"
  },
  "language_info": {
   "codemirror_mode": {
    "name": "ipython",
    "version": 3
   },
   "file_extension": ".py",
   "mimetype": "text/x-python",
   "name": "python",
   "nbconvert_exporter": "python",
   "pygments_lexer": "ipython3",
   "version": "3.5.2"
  }
 },
 "nbformat": 4,
 "nbformat_minor": 1
}
