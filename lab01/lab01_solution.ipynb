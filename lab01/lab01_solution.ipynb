{
 "cells": [
  {
   "cell_type": "code",
   "execution_count": 1,
   "metadata": {
    "collapsed": false
   },
   "outputs": [],
   "source": [
    "from IPython.core.display import HTML\n",
    "HTML(\"\"\"\n",
    "<style>\n",
    ".imagesource {\n",
    "    font-size: xx-small;\n",
    "}\n",
    "</style>\n",
    "\"\"\")\n",
    "\n",
    "from datascience import *\n",
    "\n",
    "import matplotlib\n",
    "matplotlib.use('Agg')\n",
    "%matplotlib inline\n",
    "import matplotlib.pyplot as plt\n",
    "import numpy as np\n",
    "plt.style.use('fivethirtyeight')"
   ]
  },
  {
   "cell_type": "markdown",
   "metadata": {},
   "source": [
    "### L&S 88 - Social Networks"
   ]
  },
  {
   "cell_type": "markdown",
   "metadata": {},
   "source": [
    "# Lab 1: Personal networks"
   ]
  },
  {
   "cell_type": "markdown",
   "metadata": {},
   "source": [
    "Welcome to the first lab for L&S 88 - Social Networks!\n",
    "\n",
    "In this lab, we will start to analyze the data that we collected as part of the first homework assignment. We will be exploring the structure of Berkeley students' personal networks."
   ]
  },
  {
   "cell_type": "markdown",
   "metadata": {},
   "source": [
    "## 1. Introduction"
   ]
  },
  {
   "cell_type": "markdown",
   "metadata": {},
   "source": [
    "As we discussed last class, there are many different ways to study social networks. One is to study *personal networks*. Personal network studies focus on a particular individual's network members. This approach can be used to study people's sources of social support. Social support is thought to be an important factor for a wide range of different outcomes such as mental and physical health; employment; and education.\n",
    "\n",
    "Here is an  of the personal network formed by someone's Facebook friends:\n",
    "\n",
    "![Facebook personal network example](figures/backstrom_kleinberg_2013_fb_ego_example.png)\n",
    "\n",
    "<div class='imagesource'>\n",
    "Backstrom and Kleinberg (2013) - [Romantic partnerships and the dispersion of social ties.](http://dl.acm.org/citation.cfm?id=2531642)\n",
    "</div>\n",
    "\n",
    "\n",
    "Conceptually, we can think of someone's personal network as looking like this:"
   ]
  },
  {
   "cell_type": "markdown",
   "metadata": {},
   "source": [
    "![A personal network](figures/ego_network.png)"
   ]
  },
  {
   "cell_type": "markdown",
   "metadata": {},
   "source": [
    "The focal individual in a personal network study is sometimes called *ego* and the other people who are socially connected to ego are sometimes called *alters*."
   ]
  },
  {
   "cell_type": "markdown",
   "metadata": {},
   "source": [
    "One of the most common ways researchers study personal networks is to use surveys. Last week, we talked about a specific survey question:\n",
    "\n",
    "![GSS important matters question](figures/gss_2004_important_matters.png)"
   ]
  },
  {
   "cell_type": "markdown",
   "metadata": {},
   "source": [
    "**Question** What is the network that this question is asking about? What are the nodes, and what are the edges?"
   ]
  },
  {
   "cell_type": "markdown",
   "metadata": {},
   "source": [
    "[Answer here]"
   ]
  },
  {
   "cell_type": "markdown",
   "metadata": {},
   "source": [
    "For the rest of this lab, when we refer to 'personal networks,' we'll mean the network that this survey question is asking about."
   ]
  },
  {
   "cell_type": "markdown",
   "metadata": {},
   "source": [
    "## 2. Survey of Berkeley students"
   ]
  },
  {
   "cell_type": "markdown",
   "metadata": {},
   "source": [
    "Now we'll turn to the results of the data that you all collected as part of your first homework assignment. \n",
    "Our goal will be use our data to better understand the personal networks of Berkeley students."
   ]
  },
  {
   "cell_type": "markdown",
   "metadata": {},
   "source": [
    "### 2.1 Opening the data"
   ]
  },
  {
   "cell_type": "markdown",
   "metadata": {},
   "source": [
    "We'll begin by loading the datascience package."
   ]
  },
  {
   "cell_type": "code",
   "execution_count": 2,
   "metadata": {
    "collapsed": true
   },
   "outputs": [],
   "source": [
    "from datascience import *"
   ]
  },
  {
   "cell_type": "markdown",
   "metadata": {},
   "source": [
    "The dataset is available at the url `http://www.dennisfeehan.org/teaching/berkeley_survey_clean.csv`."
   ]
  },
  {
   "cell_type": "markdown",
   "metadata": {},
   "source": [
    "**Question** Write code that loads the dataset as a table called `survey`."
   ]
  },
  {
   "cell_type": "code",
   "execution_count": 3,
   "metadata": {
    "collapsed": false
   },
   "outputs": [],
   "source": [
    "url = 'http://www.dennisfeehan.org/teaching/berkeley_survey_clean.csv'\n",
    "survey = Table.read_table(url)"
   ]
  },
  {
   "cell_type": "markdown",
   "metadata": {},
   "source": [
    "### 2.2 Exploring the data"
   ]
  },
  {
   "cell_type": "markdown",
   "metadata": {},
   "source": [
    "Before we start to perform any analysis on a new dataset, it is important to look at the data and be sure that we understand how it is structured. In most cases, there will be documentation that comes with the survey dataset to explain how to analyze it. In our case, we already have a basic understanding of how the data are structured because we all collected and entered it ourselves."
   ]
  },
  {
   "cell_type": "markdown",
   "metadata": {},
   "source": [
    "### 2.2.1 Age of respondents"
   ]
  },
  {
   "cell_type": "markdown",
   "metadata": {},
   "source": [
    "Let's start by getting a sense of who responded to the survey. We'll look at the age and class year of our respondents."
   ]
  },
  {
   "cell_type": "markdown",
   "metadata": {},
   "source": [
    "**Question** How many people responded to the survey?"
   ]
  },
  {
   "cell_type": "code",
   "execution_count": 4,
   "metadata": {
    "collapsed": false
   },
   "outputs": [
    {
     "data": {
      "text/plain": [
       "97"
      ]
     },
     "execution_count": 4,
     "metadata": {},
     "output_type": "execute_result"
    }
   ],
   "source": [
    "num_respondents = survey.num_rows\n",
    "num_respondents"
   ]
  },
  {
   "cell_type": "markdown",
   "metadata": {},
   "source": [
    "To get a sense of what the data look like, print the first several rows."
   ]
  },
  {
   "cell_type": "code",
   "execution_count": 5,
   "metadata": {
    "collapsed": false
   },
   "outputs": [
    {
     "data": {
      "text/html": [
       "<table border=\"1\" class=\"dataframe\">\n",
       "    <thead>\n",
       "        <tr>\n",
       "            <th>interview_number</th> <th>interview_date</th> <th>interview_time</th> <th>respondent_age</th> <th>respondent_class</th> <th>respondent_home</th> <th>number_alters</th> <th>alter1_gender</th> <th>alter1_age</th> <th>alter1_class</th> <th>alter1_home</th> <th>alter2_gender</th> <th>alter2_age</th> <th>alter2_class</th> <th>alter2_home</th> <th>alter3_gender</th> <th>alter3_age</th> <th>alter3_class</th> <th>alter3_home</th> <th>alter4_gender</th> <th>alter4_age</th> <th>alter4_class</th> <th>alter4_home</th> <th>alter5_gender</th> <th>alter5_age</th> <th>alter5_class</th> <th>alter5_home</th>\n",
       "        </tr>\n",
       "    </thead>\n",
       "    <tbody>\n",
       "        <tr>\n",
       "            <td>self            </td> <td>08/29/2016    </td> <td>9:57 PM       </td> <td>18            </td> <td>Freshman        </td> <td>Rest of US        </td> <td>5            </td> <td>F            </td> <td>54        </td> <td>Other       </td> <td>Rest of US        </td> <td>M            </td> <td>59        </td> <td>Other       </td> <td>Rest of US        </td> <td>F            </td> <td>20        </td> <td>Sophomore   </td> <td>Rest of US        </td> <td>F            </td> <td>17        </td> <td>Other       </td> <td>Rest of US        </td> <td>F            </td> <td>75        </td> <td>Other       </td> <td>Bay Area          </td>\n",
       "        </tr>\n",
       "    </tbody>\n",
       "        <tr>\n",
       "            <td>1               </td> <td>08/29/2016    </td> <td>8:47 PM       </td> <td>18            </td> <td>Freshman        </td> <td>Rest of World     </td> <td>2            </td> <td>F            </td> <td>46        </td> <td>Other       </td> <td>Rest of World     </td> <td>M            </td> <td>50        </td> <td>Other       </td> <td>Rest of World     </td> <td>nan          </td> <td>nan       </td> <td>nan         </td> <td>nan               </td> <td>nan          </td> <td>nan       </td> <td>nan         </td> <td>nan               </td> <td>nan          </td> <td>nan       </td> <td>nan         </td> <td>nan               </td>\n",
       "        </tr>\n",
       "    </tbody>\n",
       "        <tr>\n",
       "            <td>2               </td> <td>08/29/2016    </td> <td>8:52 PM       </td> <td>17            </td> <td>Freshman        </td> <td>LA                </td> <td>4            </td> <td>F            </td> <td>42        </td> <td>Other       </td> <td>LA                </td> <td>F            </td> <td>35        </td> <td>Other       </td> <td>Rest of US        </td> <td>M            </td> <td>22        </td> <td>Junior      </td> <td>LA                </td> <td>F            </td> <td>21        </td> <td>Sophomore   </td> <td>LA                </td> <td>nan          </td> <td>nan       </td> <td>nan         </td> <td>nan               </td>\n",
       "        </tr>\n",
       "    </tbody>\n",
       "        <tr>\n",
       "            <td>3               </td> <td>08/29/2016    </td> <td>8:59 PM       </td> <td>19            </td> <td>Sophomore       </td> <td>Bay Area          </td> <td>4            </td> <td>F            </td> <td>52        </td> <td>Other       </td> <td>Bay Area          </td> <td>F            </td> <td>19        </td> <td>Sophomore   </td> <td>Bay Area          </td> <td>F            </td> <td>19        </td> <td>Sophomore   </td> <td>Rest of California</td> <td>M            </td> <td>19        </td> <td>Sophomore   </td> <td>LA                </td> <td>nan          </td> <td>nan       </td> <td>nan         </td> <td>nan               </td>\n",
       "        </tr>\n",
       "    </tbody>\n",
       "        <tr>\n",
       "            <td>4               </td> <td>08/29/2016    </td> <td>3:35 PM       </td> <td>19            </td> <td>Sophomore       </td> <td>Bay Area          </td> <td>5            </td> <td>M            </td> <td>53        </td> <td>Other       </td> <td>Rest of World     </td> <td>F            </td> <td>53        </td> <td>Other       </td> <td>Rest of World     </td> <td>M            </td> <td>19        </td> <td>Sophomore   </td> <td>LA                </td> <td>M            </td> <td>25        </td> <td>Senior      </td> <td>LA                </td> <td>F            </td> <td>19        </td> <td>Sophomore   </td> <td>Rest of California</td>\n",
       "        </tr>\n",
       "    </tbody>\n",
       "        <tr>\n",
       "            <td>self            </td> <td>08/29/2016    </td> <td>4:00          </td> <td>20            </td> <td>Senior          </td> <td>Rest of World     </td> <td>4            </td> <td>M            </td> <td>23        </td> <td>Senior      </td> <td>Rest of World     </td> <td>F            </td> <td>40        </td> <td>Other       </td> <td>Rest of World     </td> <td>M            </td> <td>50        </td> <td>Other       </td> <td>Rest of World     </td> <td>M            </td> <td>21        </td> <td>Sophomore   </td> <td>Rest of World     </td> <td>nan          </td> <td>nan       </td> <td>nan         </td> <td>nan               </td>\n",
       "        </tr>\n",
       "    </tbody>\n",
       "        <tr>\n",
       "            <td>1               </td> <td>08/29/2016    </td> <td>3:30          </td> <td>20            </td> <td>Junior          </td> <td>Rest of California</td> <td>4            </td> <td>F            </td> <td>53        </td> <td>Other       </td> <td>Rest of California</td> <td>M            </td> <td>58        </td> <td>Other       </td> <td>Rest of California</td> <td>F            </td> <td>24        </td> <td>Other       </td> <td>Rest of California</td> <td>M            </td> <td>20        </td> <td>Junior      </td> <td>Rest of California</td> <td>nan          </td> <td>nan       </td> <td>nan         </td> <td>nan               </td>\n",
       "        </tr>\n",
       "    </tbody>\n",
       "        <tr>\n",
       "            <td>2               </td> <td>08/29/2016    </td> <td>3:40          </td> <td>17            </td> <td>Freshman        </td> <td>LA                </td> <td>5            </td> <td>M            </td> <td>17        </td> <td>Freshman    </td> <td>LA                </td> <td>F            </td> <td>50        </td> <td>Other       </td> <td>LA                </td> <td>F            </td> <td>15        </td> <td>Other       </td> <td>LA                </td> <td>F            </td> <td>16        </td> <td>Other       </td> <td>LA                </td> <td>F            </td> <td>18        </td> <td>Other       </td> <td>Rest of US        </td>\n",
       "        </tr>\n",
       "    </tbody>\n",
       "        <tr>\n",
       "            <td>3               </td> <td>08/30/2016    </td> <td>4:00          </td> <td>22            </td> <td>Junior          </td> <td>Bay Area          </td> <td>4            </td> <td>M            </td> <td>23        </td> <td>Other       </td> <td>Rest of World     </td> <td>M            </td> <td>25        </td> <td>Other       </td> <td>Rest of World     </td> <td>F            </td> <td>22        </td> <td>Other       </td> <td>LA                </td> <td>M            </td> <td>21        </td> <td>Senior      </td> <td>Rest of World     </td> <td>nan          </td> <td>nan       </td> <td>nan         </td> <td>nan               </td>\n",
       "        </tr>\n",
       "    </tbody>\n",
       "        <tr>\n",
       "            <td>self            </td> <td>09/05/2016    </td> <td>6:31 PM       </td> <td>20            </td> <td>Junior          </td> <td>Rest of World     </td> <td>5            </td> <td>F            </td> <td>20        </td> <td>Junior      </td> <td>Rest of World     </td> <td>M            </td> <td>20        </td> <td>Junior      </td> <td>Rest of US        </td> <td>F            </td> <td>21        </td> <td>Senior      </td> <td>Rest of World     </td> <td>M            </td> <td>20        </td> <td>Junior      </td> <td>Rest of World     </td> <td>M            </td> <td>18        </td> <td>Other       </td> <td>Rest of World     </td>\n",
       "        </tr>\n",
       "    </tbody>\n",
       "</table>\n",
       "<p>... (87 rows omitted)</p"
      ],
      "text/plain": [
       "interview_number | interview_date | interview_time | respondent_age | respondent_class | respondent_home    | number_alters | alter1_gender | alter1_age | alter1_class | alter1_home        | alter2_gender | alter2_age | alter2_class | alter2_home        | alter3_gender | alter3_age | alter3_class | alter3_home        | alter4_gender | alter4_age | alter4_class | alter4_home        | alter5_gender | alter5_age | alter5_class | alter5_home\n",
       "self             | 08/29/2016     | 9:57 PM        | 18             | Freshman         | Rest of US         | 5             | F             | 54         | Other        | Rest of US         | M             | 59         | Other        | Rest of US         | F             | 20         | Sophomore    | Rest of US         | F             | 17         | Other        | Rest of US         | F             | 75         | Other        | Bay Area\n",
       "1                | 08/29/2016     | 8:47 PM        | 18             | Freshman         | Rest of World      | 2             | F             | 46         | Other        | Rest of World      | M             | 50         | Other        | Rest of World      | nan           | nan        | nan          | nan                | nan           | nan        | nan          | nan                | nan           | nan        | nan          | nan\n",
       "2                | 08/29/2016     | 8:52 PM        | 17             | Freshman         | LA                 | 4             | F             | 42         | Other        | LA                 | F             | 35         | Other        | Rest of US         | M             | 22         | Junior       | LA                 | F             | 21         | Sophomore    | LA                 | nan           | nan        | nan          | nan\n",
       "3                | 08/29/2016     | 8:59 PM        | 19             | Sophomore        | Bay Area           | 4             | F             | 52         | Other        | Bay Area           | F             | 19         | Sophomore    | Bay Area           | F             | 19         | Sophomore    | Rest of California | M             | 19         | Sophomore    | LA                 | nan           | nan        | nan          | nan\n",
       "4                | 08/29/2016     | 3:35 PM        | 19             | Sophomore        | Bay Area           | 5             | M             | 53         | Other        | Rest of World      | F             | 53         | Other        | Rest of World      | M             | 19         | Sophomore    | LA                 | M             | 25         | Senior       | LA                 | F             | 19         | Sophomore    | Rest of California\n",
       "self             | 08/29/2016     | 4:00           | 20             | Senior           | Rest of World      | 4             | M             | 23         | Senior       | Rest of World      | F             | 40         | Other        | Rest of World      | M             | 50         | Other        | Rest of World      | M             | 21         | Sophomore    | Rest of World      | nan           | nan        | nan          | nan\n",
       "1                | 08/29/2016     | 3:30           | 20             | Junior           | Rest of California | 4             | F             | 53         | Other        | Rest of California | M             | 58         | Other        | Rest of California | F             | 24         | Other        | Rest of California | M             | 20         | Junior       | Rest of California | nan           | nan        | nan          | nan\n",
       "2                | 08/29/2016     | 3:40           | 17             | Freshman         | LA                 | 5             | M             | 17         | Freshman     | LA                 | F             | 50         | Other        | LA                 | F             | 15         | Other        | LA                 | F             | 16         | Other        | LA                 | F             | 18         | Other        | Rest of US\n",
       "3                | 08/30/2016     | 4:00           | 22             | Junior           | Bay Area           | 4             | M             | 23         | Other        | Rest of World      | M             | 25         | Other        | Rest of World      | F             | 22         | Other        | LA                 | M             | 21         | Senior       | Rest of World      | nan           | nan        | nan          | nan\n",
       "self             | 09/05/2016     | 6:31 PM        | 20             | Junior           | Rest of World      | 5             | F             | 20         | Junior       | Rest of World      | M             | 20         | Junior       | Rest of US         | F             | 21         | Senior       | Rest of World      | M             | 20         | Junior       | Rest of World      | M             | 18         | Other        | Rest of World\n",
       "... (87 rows omitted)"
      ]
     },
     "execution_count": 5,
     "metadata": {},
     "output_type": "execute_result"
    }
   ],
   "source": [
    "survey"
   ]
  },
  {
   "cell_type": "markdown",
   "metadata": {},
   "source": [
    "**Question** What do you expect will be the age range of people who responded to the survey? Why?"
   ]
  },
  {
   "cell_type": "markdown",
   "metadata": {
    "collapsed": true
   },
   "source": [
    "[Answer here]"
   ]
  },
  {
   "cell_type": "markdown",
   "metadata": {},
   "source": [
    "Now let's investigate the actual data.\n",
    "\n",
    "**Question** What are the highest and lowest ages of the people who responded to the survey?"
   ]
  },
  {
   "cell_type": "code",
   "execution_count": 6,
   "metadata": {
    "collapsed": false
   },
   "outputs": [
    {
     "data": {
      "text/plain": [
       "25"
      ]
     },
     "execution_count": 6,
     "metadata": {},
     "output_type": "execute_result"
    }
   ],
   "source": [
    "survey.column('respondent_age').max()"
   ]
  },
  {
   "cell_type": "code",
   "execution_count": 7,
   "metadata": {
    "collapsed": false
   },
   "outputs": [
    {
     "data": {
      "text/plain": [
       "17"
      ]
     },
     "execution_count": 7,
     "metadata": {},
     "output_type": "execute_result"
    }
   ],
   "source": [
    "survey.column('respondent_age').min()"
   ]
  },
  {
   "cell_type": "markdown",
   "metadata": {},
   "source": [
    "**Question** What was the average age of a survey respondent?"
   ]
  },
  {
   "cell_type": "code",
   "execution_count": 8,
   "metadata": {
    "collapsed": false
   },
   "outputs": [
    {
     "data": {
      "text/plain": [
       "19.731958762886599"
      ]
     },
     "execution_count": 8,
     "metadata": {},
     "output_type": "execute_result"
    }
   ],
   "source": [
    "survey.column('respondent_age').mean()"
   ]
  },
  {
   "cell_type": "markdown",
   "metadata": {},
   "source": [
    "**Question** Draw a histogram of the ages of respondents."
   ]
  },
  {
   "cell_type": "code",
   "execution_count": 9,
   "metadata": {
    "collapsed": false
   },
   "outputs": [
    {
     "data": {
      "image/png": "[encoded data removed]",
      "text/plain": [
       "<matplotlib.figure.Figure at 0x1163a8390>"
      ]
     },
     "metadata": {},
     "output_type": "display_data"
    }
   ],
   "source": [
    "survey.select('respondent_age').hist()"
   ]
  },
  {
   "cell_type": "markdown",
   "metadata": {},
   "source": [
    "**Question** The default looks a bit wonky because we haven't specified the bins to use. Draw the histogram again, this time using bins that are one year of age wide.\n"
   ]
  },
  {
   "cell_type": "code",
   "execution_count": 10,
   "metadata": {
    "collapsed": false
   },
   "outputs": [
    {
     "data": {
      "image/png": "[encoded data removed]",
      "text/plain": [
       "<matplotlib.figure.Figure at 0x116dbf9e8>"
      ]
     },
     "metadata": {},
     "output_type": "display_data"
    }
   ],
   "source": [
    "survey.select('respondent_age').hist(bins=np.arange(16, 26, 1))"
   ]
  },
  {
   "cell_type": "markdown",
   "metadata": {},
   "source": [
    "**Question** About what percentage of respondents are under age 20?"
   ]
  },
  {
   "cell_type": "markdown",
   "metadata": {},
   "source": [
    "[Answer here]"
   ]
  },
  {
   "cell_type": "markdown",
   "metadata": {},
   "source": [
    "### 2.2.2 Class year of respondents"
   ]
  },
  {
   "cell_type": "markdown",
   "metadata": {},
   "source": [
    "OK, we have a pretty good handle on the age of people who responded to the survey. Now let's look at their class years.\n",
    "\n",
    "**Question** About what proportion of respondents would you expect to be Freshmen? Seniors? Why?"
   ]
  },
  {
   "cell_type": "markdown",
   "metadata": {},
   "source": [
    "[Answer here]"
   ]
  },
  {
   "cell_type": "markdown",
   "metadata": {},
   "source": [
    "**Question** Now calculate the actual proportion of freshman and senior respondents. <br>\n",
    "*[Hint: you may find the `where` method useful.]*"
   ]
  },
  {
   "cell_type": "code",
   "execution_count": 11,
   "metadata": {
    "collapsed": false
   },
   "outputs": [
    {
     "data": {
      "text/plain": [
       "0.1958762886597938"
      ]
     },
     "execution_count": 11,
     "metadata": {},
     "output_type": "execute_result"
    }
   ],
   "source": [
    "num_fresh = survey.where('respondent_class', are.equal_to('Freshman')).num_rows\n",
    "num_fresh / num_respondents"
   ]
  },
  {
   "cell_type": "code",
   "execution_count": 12,
   "metadata": {
    "collapsed": false
   },
   "outputs": [
    {
     "data": {
      "text/plain": [
       "0.21649484536082475"
      ]
     },
     "execution_count": 12,
     "metadata": {},
     "output_type": "execute_result"
    }
   ],
   "source": [
    "num_sr = survey.where('respondent_class', are.equal_to('Senior')).num_rows\n",
    "num_sr / num_respondents"
   ]
  },
  {
   "cell_type": "markdown",
   "metadata": {},
   "source": [
    "There is a faster way to count the number of different values of a categorical variable using the `group` method. You haven't talked about this in class yet, but you will. \n",
    "\n",
    "**Question** See if you can figure out how `group` works, and then use it to produce a count of the class of our respondents.<br>\n",
    "*[Hint: you can look at the documentation by running `Table.group?`.]*"
   ]
  },
  {
   "cell_type": "code",
   "execution_count": 13,
   "metadata": {
    "collapsed": true
   },
   "outputs": [],
   "source": [
    "Table.group?"
   ]
  },
  {
   "cell_type": "code",
   "execution_count": 14,
   "metadata": {
    "collapsed": false
   },
   "outputs": [
    {
     "data": {
      "text/html": [
       "<table border=\"1\" class=\"dataframe\">\n",
       "    <thead>\n",
       "        <tr>\n",
       "            <th>respondent_class</th> <th>count</th>\n",
       "        </tr>\n",
       "    </thead>\n",
       "    <tbody>\n",
       "        <tr>\n",
       "            <td>Freshman        </td> <td>19   </td>\n",
       "        </tr>\n",
       "    </tbody>\n",
       "        <tr>\n",
       "            <td>Junior          </td> <td>31   </td>\n",
       "        </tr>\n",
       "    </tbody>\n",
       "        <tr>\n",
       "            <td>Other           </td> <td>3    </td>\n",
       "        </tr>\n",
       "    </tbody>\n",
       "        <tr>\n",
       "            <td>Senior          </td> <td>21   </td>\n",
       "        </tr>\n",
       "    </tbody>\n",
       "        <tr>\n",
       "            <td>Sophomore       </td> <td>23   </td>\n",
       "        </tr>\n",
       "    </tbody>\n",
       "</table>"
      ],
      "text/plain": [
       "respondent_class | count\n",
       "Freshman         | 19\n",
       "Junior           | 31\n",
       "Other            | 3\n",
       "Senior           | 21\n",
       "Sophomore        | 23"
      ]
     },
     "execution_count": 14,
     "metadata": {},
     "output_type": "execute_result"
    }
   ],
   "source": [
    "survey.group('respondent_class')"
   ]
  },
  {
   "cell_type": "markdown",
   "metadata": {},
   "source": [
    "**Question** See if you can use `group` and the `barh` methods to create a bar chart with the counts of respondents by class."
   ]
  },
  {
   "cell_type": "code",
   "execution_count": 15,
   "metadata": {
    "collapsed": false
   },
   "outputs": [
    {
     "data": {
      "image/png": "[encoded data removed]",
      "text/plain": [
       "<matplotlib.figure.Figure at 0x11b104080>"
      ]
     },
     "metadata": {},
     "output_type": "display_data"
    }
   ],
   "source": [
    "tmp = survey.group('respondent_class').sort('count', descending=True)\n",
    "tmp.barh('respondent_class')"
   ]
  },
  {
   "cell_type": "markdown",
   "metadata": {},
   "source": [
    "### 2.2.3 Additional exploration"
   ]
  },
  {
   "cell_type": "markdown",
   "metadata": {},
   "source": [
    "OK, now it's your turn! Explore one more thing about the survey respondents (we're going to hold off on analyzing the alters for the time being). You can pick anything that you are curious about, but some possibilities include:\n",
    "\n",
    "* where respondents are from\n",
    "* how many confidants get reported\n",
    "* what time of day the surveys were conducted\n",
    "\n",
    "Whatever you decide to look at, be sure to come up with a quantitative way to understand the respondents better and also be sure to make at least one plot."
   ]
  },
  {
   "cell_type": "code",
   "execution_count": null,
   "metadata": {
    "collapsed": true
   },
   "outputs": [],
   "source": []
  },
  {
   "cell_type": "markdown",
   "metadata": {},
   "source": [
    "## 3. Personal networks"
   ]
  },
  {
   "cell_type": "markdown",
   "metadata": {},
   "source": [
    "OK, so now we have a sense of what kind of respondents we have in our sample. Now we can turn to the actual personal network data"
   ]
  },
  {
   "cell_type": "markdown",
   "metadata": {},
   "source": [
    "**Question** Using `group`, make a table of of number of confidants our respondents reported."
   ]
  },
  {
   "cell_type": "code",
   "execution_count": 16,
   "metadata": {
    "collapsed": false
   },
   "outputs": [
    {
     "data": {
      "text/html": [
       "<table border=\"1\" class=\"dataframe\">\n",
       "    <thead>\n",
       "        <tr>\n",
       "            <th>number_alters</th> <th>count</th>\n",
       "        </tr>\n",
       "    </thead>\n",
       "    <tbody>\n",
       "        <tr>\n",
       "            <td>1            </td> <td>2    </td>\n",
       "        </tr>\n",
       "    </tbody>\n",
       "        <tr>\n",
       "            <td>2            </td> <td>3    </td>\n",
       "        </tr>\n",
       "    </tbody>\n",
       "        <tr>\n",
       "            <td>3            </td> <td>14   </td>\n",
       "        </tr>\n",
       "    </tbody>\n",
       "        <tr>\n",
       "            <td>4            </td> <td>16   </td>\n",
       "        </tr>\n",
       "    </tbody>\n",
       "        <tr>\n",
       "            <td>5            </td> <td>43   </td>\n",
       "        </tr>\n",
       "    </tbody>\n",
       "        <tr>\n",
       "            <td>6            </td> <td>3    </td>\n",
       "        </tr>\n",
       "    </tbody>\n",
       "        <tr>\n",
       "            <td>6+           </td> <td>14   </td>\n",
       "        </tr>\n",
       "    </tbody>\n",
       "        <tr>\n",
       "            <td>7            </td> <td>1    </td>\n",
       "        </tr>\n",
       "    </tbody>\n",
       "        <tr>\n",
       "            <td>8            </td> <td>1    </td>\n",
       "        </tr>\n",
       "    </tbody>\n",
       "</table>"
      ],
      "text/plain": [
       "number_alters | count\n",
       "1             | 2\n",
       "2             | 3\n",
       "3             | 14\n",
       "4             | 16\n",
       "5             | 43\n",
       "6             | 3\n",
       "6+            | 14\n",
       "7             | 1\n",
       "8             | 1"
      ]
     },
     "execution_count": 16,
     "metadata": {},
     "output_type": "execute_result"
    }
   ],
   "source": [
    "survey.groups('number_alters')"
   ]
  },
  {
   "cell_type": "markdown",
   "metadata": {},
   "source": [
    "In order to analyze this variable, we are going to have to decide what to do about the respondents who reported having more than 5 confidants. The function below was written to do this in one particular way.\n",
    "\n",
    "**Question** Look at the function below. What does it do? How does it handle respondents who reported more than 5 confidants?"
   ]
  },
  {
   "cell_type": "code",
   "execution_count": 17,
   "metadata": {
    "collapsed": true
   },
   "outputs": [],
   "source": [
    "def recode_number_alters(na):\n",
    "    if na in ['1', '2', '3', '4', '5']:\n",
    "        return int(na)\n",
    "    elif na in ['6', '6+', '7', '8']:\n",
    "        return 6"
   ]
  },
  {
   "cell_type": "markdown",
   "metadata": {},
   "source": [
    "**Question** Using `recode_number_alters`, see if you can create a new column called `num_confidants` which has the recoded values."
   ]
  },
  {
   "cell_type": "code",
   "execution_count": 18,
   "metadata": {
    "collapsed": true
   },
   "outputs": [],
   "source": [
    "survey['num_confidants'] = survey.apply(recode_number_alters, 'number_alters')"
   ]
  },
  {
   "cell_type": "markdown",
   "metadata": {},
   "source": [
    "**Question** Double-check that the function worked the way you thought it\n",
    "would by creating a table of the `num_confidants` column. You may also find it helpful to create a histogram."
   ]
  },
  {
   "cell_type": "code",
   "execution_count": 19,
   "metadata": {
    "collapsed": false
   },
   "outputs": [
    {
     "data": {
      "text/html": [
       "<table border=\"1\" class=\"dataframe\">\n",
       "    <thead>\n",
       "        <tr>\n",
       "            <th>num_confidants</th> <th>count</th>\n",
       "        </tr>\n",
       "    </thead>\n",
       "    <tbody>\n",
       "        <tr>\n",
       "            <td>1             </td> <td>2    </td>\n",
       "        </tr>\n",
       "    </tbody>\n",
       "        <tr>\n",
       "            <td>2             </td> <td>3    </td>\n",
       "        </tr>\n",
       "    </tbody>\n",
       "        <tr>\n",
       "            <td>3             </td> <td>14   </td>\n",
       "        </tr>\n",
       "    </tbody>\n",
       "        <tr>\n",
       "            <td>4             </td> <td>16   </td>\n",
       "        </tr>\n",
       "    </tbody>\n",
       "        <tr>\n",
       "            <td>5             </td> <td>43   </td>\n",
       "        </tr>\n",
       "    </tbody>\n",
       "        <tr>\n",
       "            <td>6             </td> <td>19   </td>\n",
       "        </tr>\n",
       "    </tbody>\n",
       "</table>"
      ],
      "text/plain": [
       "num_confidants | count\n",
       "1              | 2\n",
       "2              | 3\n",
       "3              | 14\n",
       "4              | 16\n",
       "5              | 43\n",
       "6              | 19"
      ]
     },
     "execution_count": 19,
     "metadata": {},
     "output_type": "execute_result"
    }
   ],
   "source": [
    "survey.group('num_confidants')"
   ]
  },
  {
   "cell_type": "code",
   "execution_count": 20,
   "metadata": {
    "collapsed": false
   },
   "outputs": [
    {
     "data": {
      "image/png": "[encoded data removed]",
      "text/plain": [
       "<matplotlib.figure.Figure at 0x11b2c0710>"
      ]
     },
     "metadata": {},
     "output_type": "display_data"
    }
   ],
   "source": [
    "survey.hist('num_confidants', bins=np.arange(0,6,1))"
   ]
  },
  {
   "cell_type": "markdown",
   "metadata": {},
   "source": [
    "**Question** Do you find anything surprising about these survey respondents' personal networks? Are they bigger or smaller than the results we saw from the General Social Survey? "
   ]
  },
  {
   "cell_type": "code",
   "execution_count": null,
   "metadata": {
    "collapsed": true
   },
   "outputs": [],
   "source": []
  },
  {
   "cell_type": "markdown",
   "metadata": {},
   "source": [
    "### 4. Alters"
   ]
  },
  {
   "cell_type": "markdown",
   "metadata": {},
   "source": [
    "Now we'll start to look more closely at the people that respondents reported having in their personal networks. We don't quite know enough Python to look at all of the alters. So we will focus on the relationship between the respondents and the first alter named. Fortunately, everyone in the survey reported at least one alter."
   ]
  },
  {
   "cell_type": "markdown",
   "metadata": {},
   "source": [
    "**Question** What do you expect to see when we compare the ages of the respondents and the ages of the first alters? (Any reasonable prediction is helpful here.)"
   ]
  },
  {
   "cell_type": "markdown",
   "metadata": {},
   "source": [
    "[Answer here]"
   ]
  },
  {
   "cell_type": "markdown",
   "metadata": {},
   "source": [
    "**Question** Make a scatter plot that compares the age of respondents (x axis) and the age of the first alter (y axis)."
   ]
  },
  {
   "cell_type": "code",
   "execution_count": 21,
   "metadata": {
    "collapsed": false
   },
   "outputs": [
    {
     "data": {
      "image/png": "[encoded data removed]",
      "text/plain": [
       "<matplotlib.figure.Figure at 0x11b195a58>"
      ]
     },
     "metadata": {},
     "output_type": "display_data"
    }
   ],
   "source": [
    "survey.scatter('respondent_age', 'alter1_age')"
   ]
  },
  {
   "cell_type": "markdown",
   "metadata": {},
   "source": [
    "**Question** How would you describe any patterns in the scatter plot? Can you come up with a hypothesis for what might explain them?"
   ]
  },
  {
   "cell_type": "markdown",
   "metadata": {},
   "source": [
    "[Answer here]"
   ]
  },
  {
   "cell_type": "markdown",
   "metadata": {},
   "source": [
    "**Question** If you conducted another survey, what additional information could you collect to see if your hypothesis is right?"
   ]
  },
  {
   "cell_type": "markdown",
   "metadata": {},
   "source": [
    "[Answer here]"
   ]
  },
  {
   "cell_type": "markdown",
   "metadata": {},
   "source": [
    "### 5. Quick survey"
   ]
  },
  {
   "cell_type": "markdown",
   "metadata": {},
   "source": [
    "**Question** Please go take this very quick [survey](https://goo.gl/forms/xVxlUcEoSiIQTALH2) about the class so far."
   ]
  },
  {
   "cell_type": "markdown",
   "metadata": {},
   "source": [
    "### 6. Submit the lab"
   ]
  },
  {
   "cell_type": "markdown",
   "metadata": {},
   "source": [
    "You're almost done! Now please create a pdf version of your completed lab by going to the Jupyter 'File' menu, choosing 'Download as' and then 'PDF via LaTeX (.pdf)'. Please save the resulting .pdf on your computer and then submit the .pdf on bcourses."
   ]
  },
  {
   "cell_type": "markdown",
   "metadata": {},
   "source": [
    "**The lab must be submitted by the end of the day on Monday, Sep. 12**"
   ]
  }
 ],
 "metadata": {
  "kernelspec": {
   "display_name": "Python 3",
   "language": "python",
   "name": "python3"
  },
  "language_info": {
   "codemirror_mode": {
    "name": "ipython",
    "version": 3
   },
   "file_extension": ".py",
   "mimetype": "text/x-python",
   "name": "python",
   "nbconvert_exporter": "python",
   "pygments_lexer": "ipython3",
   "version": "3.5.2"
  }
 },
 "nbformat": 4,
 "nbformat_minor": 1
}
