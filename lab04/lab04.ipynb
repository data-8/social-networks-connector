{
 "cells": [
  {
   "cell_type": "code",
   "execution_count": null,
   "metadata": {
    "collapsed": false
   },
   "outputs": [],
   "source": [
    "from IPython.core.display import HTML\n",
    "HTML(\"\"\"\n",
    "<style>\n",
    ".imagesource {\n",
    "    font-size: xx-small;\n",
    "}\n",
    "</style>\n",
    "\"\"\")\n",
    "\n",
    "from datascience import *\n",
    "\n",
    "import matplotlib\n",
    "matplotlib.use('Agg')\n",
    "%matplotlib inline\n",
    "import matplotlib.pyplot as plt\n",
    "import numpy as np\n",
    "plt.style.use('fivethirtyeight')\n",
    "\n",
    "\n",
    "import os\n",
    "import networkx as nx"
   ]
  },
  {
   "cell_type": "markdown",
   "metadata": {
    "collapsed": true
   },
   "source": [
    "# Lab 04"
   ]
  },
  {
   "cell_type": "markdown",
   "metadata": {},
   "source": [
    "In this lab, we're going to continue our study of complete network data from the [Add Health project](http://www.cpc.unc.edu/projects/addhealth).\n",
    "\n",
    "Last week, we started using the `networkx` package. We\n",
    "\n",
    "* learned how to read in a complete-network dataset\n",
    "* learned how to take a subgraph from a complete network\n",
    "* learned how to plot a network a few different ways\n",
    "* ... but we also discovered that plotting networks is only moderately useful for understanding them\n",
    "\n",
    "This week, we're going to continue working with complete network data. First, we're going to learn about a few different ways to quantitatively describe various aspects of network structure. Then we're going to actually compute those metrics for all of the Add Health friendship networks. This will give us a chance to practice writing functions and using iteration, two topics that you have studied recently in Data 8."
   ]
  },
  {
   "cell_type": "markdown",
   "metadata": {},
   "source": [
    "**Try to work on this lab with your neighbor** (but be sure to fill out your own lab notebook)."
   ]
  },
  {
   "cell_type": "markdown",
   "metadata": {},
   "source": [
    "## Quantifying network structure"
   ]
  },
  {
   "cell_type": "markdown",
   "metadata": {},
   "source": [
    "There are many different ways of quantifying network structure. We're going to start by discussing different ways of measuring *network connectivity*. Roughly speaking, a network has a high level of connectivity when any node can reach another node by following a small number of network edges. In the case of the Add Health student friendship networks, a highly connectected network could arise when students are friends with many of their fellow students. A poorly connected network, on the other hand, could arise when students are segregated into distinct groups that don't interact much with one another."
   ]
  },
  {
   "cell_type": "markdown",
   "metadata": {},
   "source": [
    "**Discussion question (with your neighbor)** Look at the example network below and try to come up with as many ways as possible of quantifying the connectivity of the network."
   ]
  },
  {
   "cell_type": "markdown",
   "metadata": {},
   "source": [
    "[Answer here]\n",
    "\n",
    "* number of edges\n",
    "* average degree (i.e., 2*number of edges / number of nodes)\n",
    "* number of connected components\n",
    "\n",
    "if a network consists of one giant component, we can also use\n",
    "* average path length\n",
    "* radius -- minimum [eccentricity](http://mathworld.wolfram.com/GraphEccentricity.html) of all nodes\n",
    "* diameter -- maximum eccentricity of all nodes\n",
    "* fraction of nodes in periphery -- ie, frac of nodes with eccentricity equal to diameter\n",
    "* fraction of nodes in center -- ie, frac of nodes with eccentricity equal to radius\n"
   ]
  },
  {
   "cell_type": "markdown",
   "metadata": {},
   "source": [
    "<img src=\"example_network.png\">\n"
   ]
  },
  {
   "cell_type": "markdown",
   "metadata": {},
   "source": [
    "**Question** Calculate the following network metrics by hand for the example network above:\n",
    "\n",
    "* number of nodes - [answer here]\n",
    "* number of edges - [answer here]\n",
    "* average degree - [answer here]\n",
    "* number of connected components - [answer here]\n",
    "\n",
    "**Question** Fill in the table below with the path lengths between pairs of nodes in the largest component of the example network above; the table entry i,j should have the distance of the shortest path between node i and node j:\n",
    "\n",
    "|             |  node 1 | node 2 |  node 3 |  node 4 |\n",
    "|   :----:    |  :---:  |  :---: |  :---:  |  :---:  |\n",
    "|   node 1    |    -    |    ?   |    ?    |    ?    |\n",
    "|   node 2    |    ?    |    -   |    ?    |    ?    |\n",
    "|   node 3    |    ?    |    ?   |    -    |    ?    |\n",
    "|   node 4    |    ?    |    ?   |    ?    |    -    |\n",
    "\n",
    "\n",
    "**Question** Calculate the following network metrics by hand for the largest component of the example network above:\n",
    "\n",
    "* average path length - [answer here]\n",
    "* diameter - [answer here]\n",
    "* radius - [answer here]\n",
    "* fraction of nodes in periphery - [answer here]\n",
    "* fraction of nodes in core - [answer here]"
   ]
  },
  {
   "cell_type": "markdown",
   "metadata": {},
   "source": [
    "### Calculating network metrics with `networkx`"
   ]
  },
  {
   "cell_type": "markdown",
   "metadata": {},
   "source": [
    "Now we are going to use the `networkx` package to check the calculations we made by hand."
   ]
  },
  {
   "cell_type": "markdown",
   "metadata": {},
   "source": [
    "First, we'll make a `networkx` object that has the example network.<BR>\n",
    "**Question** Fill in the code below to create a `networkx` object that represents the example network; you can do this by filling an edge list in."
   ]
  },
  {
   "cell_type": "code",
   "execution_count": null,
   "metadata": {
    "collapsed": false
   },
   "outputs": [],
   "source": [
    "ex_network = nx.Graph([...]) # example edgelist for a triangle: [(1,2), (1,3), (2,3)]"
   ]
  },
  {
   "cell_type": "markdown",
   "metadata": {},
   "source": [
    "Check that your network is correct by drawing it and comparing it to the image above."
   ]
  },
  {
   "cell_type": "code",
   "execution_count": null,
   "metadata": {
    "collapsed": false
   },
   "outputs": [],
   "source": [
    "nx.draw(ex_network, with_labels=True)"
   ]
  },
  {
   "cell_type": "markdown",
   "metadata": {},
   "source": [
    "The next few questions ask you to use the following functions to check your calculations:\n",
    "\n",
    "* `number_of_nodes()`\n",
    "* `number_of_edges()`\n",
    "* `number_connected_components()`"
   ]
  },
  {
   "cell_type": "markdown",
   "metadata": {},
   "source": [
    "**Example** Check the number of nodes"
   ]
  },
  {
   "cell_type": "code",
   "execution_count": null,
   "metadata": {
    "collapsed": false
   },
   "outputs": [],
   "source": [
    "ex_network.number_of_nodes()"
   ]
  },
  {
   "cell_type": "markdown",
   "metadata": {},
   "source": [
    "**Question** Check the number of edges"
   ]
  },
  {
   "cell_type": "code",
   "execution_count": null,
   "metadata": {
    "collapsed": false
   },
   "outputs": [],
   "source": [
    "..."
   ]
  },
  {
   "cell_type": "markdown",
   "metadata": {},
   "source": [
    "**Question** Check the average degree"
   ]
  },
  {
   "cell_type": "code",
   "execution_count": null,
   "metadata": {
    "collapsed": false
   },
   "outputs": [],
   "source": [
    "..."
   ]
  },
  {
   "cell_type": "markdown",
   "metadata": {},
   "source": [
    "**Question** Check the number of connected components"
   ]
  },
  {
   "cell_type": "code",
   "execution_count": null,
   "metadata": {
    "collapsed": false
   },
   "outputs": [],
   "source": [
    "..."
   ]
  },
  {
   "cell_type": "markdown",
   "metadata": {},
   "source": [
    "Several of the metrics we discussed only make sense when the entire network is one connected component. We will take the largest connected component of the example network (as we did when we made the calculations by hand above)."
   ]
  },
  {
   "cell_type": "code",
   "execution_count": null,
   "metadata": {
    "collapsed": false
   },
   "outputs": [],
   "source": [
    "ex_network_lc = max(nx.connected_component_subgraphs(ex_network), key=len)"
   ]
  },
  {
   "cell_type": "code",
   "execution_count": null,
   "metadata": {
    "collapsed": false
   },
   "outputs": [],
   "source": [
    "nx.draw(ex_network_lc, with_labels=True)"
   ]
  },
  {
   "cell_type": "markdown",
   "metadata": {},
   "source": [
    "The next few questions ask you to use the following functions to check your calculations:\n",
    "\n",
    "* `average_shortest_path_length()`\n",
    "* `radius()`\n",
    "* `diameter()`\n",
    "* `periphery()`\n",
    "* `center()`"
   ]
  },
  {
   "cell_type": "markdown",
   "metadata": {},
   "source": [
    "**Question** Check the average shortest path length"
   ]
  },
  {
   "cell_type": "code",
   "execution_count": null,
   "metadata": {
    "collapsed": false
   },
   "outputs": [],
   "source": [
    "..."
   ]
  },
  {
   "cell_type": "markdown",
   "metadata": {},
   "source": [
    "**Question** Check the radius"
   ]
  },
  {
   "cell_type": "code",
   "execution_count": null,
   "metadata": {
    "collapsed": false
   },
   "outputs": [],
   "source": [
    "..."
   ]
  },
  {
   "cell_type": "markdown",
   "metadata": {},
   "source": [
    "**Question** Check the diameter"
   ]
  },
  {
   "cell_type": "code",
   "execution_count": null,
   "metadata": {
    "collapsed": false
   },
   "outputs": [],
   "source": [
    "..."
   ]
  },
  {
   "cell_type": "markdown",
   "metadata": {},
   "source": [
    "**Question** Check the fraction of nodes in the periphery"
   ]
  },
  {
   "cell_type": "code",
   "execution_count": null,
   "metadata": {
    "collapsed": false
   },
   "outputs": [],
   "source": [
    "..."
   ]
  },
  {
   "cell_type": "markdown",
   "metadata": {},
   "source": [
    "**Question** Check the fraction of nodes in the center"
   ]
  },
  {
   "cell_type": "code",
   "execution_count": null,
   "metadata": {
    "collapsed": false
   },
   "outputs": [],
   "source": [
    "..."
   ]
  },
  {
   "cell_type": "markdown",
   "metadata": {},
   "source": [
    "### Opening up a school network"
   ]
  },
  {
   "cell_type": "markdown",
   "metadata": {},
   "source": [
    "Recall that the Add Health study sampled schools in many different communities. In the last lab, we looked at the network from one of those communities. In today's lab, we're going to look at *all* of the communities. By looking at many different friendship networks, we can hope to better understand the structure of student friendship networks, since we will be able to use evidence from many different networks, instead of from a single example. At the same time, we will try to better understand the different metrics of network structure and how they relate to each other."
   ]
  },
  {
   "cell_type": "markdown",
   "metadata": {},
   "source": [
    "Last week, we had to go through a couple of steps to read a file in and open up a single network. These steps would make a great function, since we will need to go through them each time we want to open 84 different files.\n",
    "\n",
    "Take a look at this function, which you will use in a moment:"
   ]
  },
  {
   "cell_type": "code",
   "execution_count": null,
   "metadata": {
    "collapsed": true
   },
   "outputs": [],
   "source": [
    "def read_add_health_network(network_id):\n",
    "    \"\"\"\n",
    "    network_id : integer from 1 to 84\n",
    "    \n",
    "    read in the Add Health network corresponding to the given id number and\n",
    "    return it as an undirected networkx object\n",
    "    \"\"\"\n",
    "\n",
    "    # this file was downloaded from\n",
    "    # http://moreno.ss.uci.edu/data.html#adhealth\n",
    "    edge_file = os.path.join(\"data\", \"comm\" + str(network_id) + \".dat\")\n",
    "    with open(edge_file, 'r') as f:\n",
    "        edge_lines = f.readlines()\n",
    "        \n",
    "    network = nx.parse_edgelist(edge_lines, nodetype=int, data=[('activity_level', float)])\n",
    "    \n",
    "    # note that we call the to_undirected method to ensure we get an undirected network\n",
    "    return(network.to_undirected())"
   ]
  },
  {
   "cell_type": "markdown",
   "metadata": {},
   "source": [
    "Now let's use this function to actually read in all 84 of the Add Health school networks:"
   ]
  },
  {
   "cell_type": "code",
   "execution_count": null,
   "metadata": {
    "collapsed": false
   },
   "outputs": [],
   "source": [
    "number_add_health_networks = 84\n",
    "add_health_networks = [read_add_health_network(x) for x in range(1,number_add_health_networks+1)]"
   ]
  },
  {
   "cell_type": "markdown",
   "metadata": {},
   "source": [
    "Done! Look at the contents of `add_health_networks` to better understand what it is."
   ]
  },
  {
   "cell_type": "markdown",
   "metadata": {},
   "source": [
    "### Calculating network statistics for all of the Add Health communities"
   ]
  },
  {
   "cell_type": "markdown",
   "metadata": {},
   "source": [
    "**Question** Let's start by making a dataset that has the number of nodes in each of the 84 Add Health community networks. Fill in the missing code below:"
   ]
  },
  {
   "cell_type": "code",
   "execution_count": null,
   "metadata": {
    "collapsed": false
   },
   "outputs": [],
   "source": [
    "num_nodes = make_array()\n",
    "\n",
    "for g in ...:\n",
    "    num_nodes = np.append(..., ...)\n",
    "\n",
    "add_health_firsttry = Table().with_columns([\n",
    "     'id', np.arange(1, number_add_health_networks+1),\n",
    "     'num_nodes', num_nodes\n",
    "    ])"
   ]
  },
  {
   "cell_type": "markdown",
   "metadata": {},
   "source": [
    "**Question** Now, following the pattern above, make a more complete dataset called `add_health` which has columns\n",
    "\n",
    "* `id`\n",
    "* `num_nodes`\n",
    "* `num_edges`\n",
    "* `avg_degree`\n",
    "* `num_components`"
   ]
  },
  {
   "cell_type": "code",
   "execution_count": null,
   "metadata": {
    "collapsed": true
   },
   "outputs": [],
   "source": [
    "...\n",
    "...\n",
    "..."
   ]
  },
  {
   "cell_type": "markdown",
   "metadata": {},
   "source": [
    "Let's take a look at the dataset that we just created:"
   ]
  },
  {
   "cell_type": "code",
   "execution_count": null,
   "metadata": {
    "collapsed": false
   },
   "outputs": [],
   "source": [
    "add_health"
   ]
  },
  {
   "cell_type": "markdown",
   "metadata": {},
   "source": [
    "**Question** Make a histogram that shows the distribution of each column (except for `id`)."
   ]
  },
  {
   "cell_type": "code",
   "execution_count": null,
   "metadata": {
    "collapsed": false
   },
   "outputs": [],
   "source": [
    "..."
   ]
  },
  {
   "cell_type": "code",
   "execution_count": null,
   "metadata": {
    "collapsed": false
   },
   "outputs": [],
   "source": [
    "..."
   ]
  },
  {
   "cell_type": "code",
   "execution_count": null,
   "metadata": {
    "collapsed": false
   },
   "outputs": [],
   "source": [
    "..."
   ]
  },
  {
   "cell_type": "code",
   "execution_count": null,
   "metadata": {
    "collapsed": false
   },
   "outputs": [],
   "source": [
    "..."
   ]
  },
  {
   "cell_type": "markdown",
   "metadata": {},
   "source": [
    "**Question** What are these distributions, exactly? For example, the histogram for `num_components` shows that almost half of the distribution has 1 component. What does that mean about the friendship networks of adolescents in the Add Health study?"
   ]
  },
  {
   "cell_type": "markdown",
   "metadata": {},
   "source": [
    "[answer here]"
   ]
  },
  {
   "cell_type": "markdown",
   "metadata": {},
   "source": [
    "**Question** Go back and look at the [description of how the data were collected](http://moreno.ss.uci.edu/data.html#adhealth) again. Now look again at the histogram of the distribution of average degrees. Can you think of anything about this data collection method that might affect the average degree distribution you see?"
   ]
  },
  {
   "cell_type": "markdown",
   "metadata": {},
   "source": [
    "[answer here]"
   ]
  },
  {
   "cell_type": "markdown",
   "metadata": {},
   "source": [
    "### Relationship between metrics of network structure"
   ]
  },
  {
   "cell_type": "markdown",
   "metadata": {},
   "source": [
    "Remember that the goal of these different metrics is to try to find a way to summarize the structure of a network.  It turns out that this is too hard a task to have a single solution: the best way to summarize or describe a network can depend a lot on what you are interested in understanding about the network. For example, one type of summary might tell you about what networks are at high or low risk of quickly spreading an infectious disease and a different type of network metric might tell you about how hierarchical or egalitarian relationships between network members are.\n",
    "\n",
    "It would be very helpful to understand how these different metrics are related to each other. For example, if two metrics always increase or decrease together, that might tell us that they are capturing the same underlying aspect of network structure. On the other hand, if two metrics are totally unrelated to one another, then that might tell us that each one captures an independent aspect of network structure.\n",
    "\n",
    "One way to investigate this topic would be to use math to try to derive results that relate the different network metrics to each other. That's a great thing to do (and there has been a lot of work on this topic). But since we're learning how to analyze data, we're going to take a different approach: we're going to use our empirical dataset to see how these metrics behave in a set of real-world friendship networks."
   ]
  },
  {
   "cell_type": "markdown",
   "metadata": {},
   "source": [
    "**Question** Think about the definitions of the four metrics we have looked at so far. Do you expect them to be related to one another? Make a prediction for each of the following pairs:\n",
    "\n",
    "* number of nodes and number of edges - [answer here]\n",
    "* number of nodes and average degree - [answer here]\n",
    "* number of nodes and number of components - [answer here]\n",
    "* average degree and number of components - [answer here]\n",
    "\n",
    "A prediction might be one of the following possibilities: (i) no relationship; (ii) directly related (when one increases, the other one does too); (iii) inverseley related (when one increases, the other one tends to decrease); (iv) something else. \n",
    "\n",
    "Of course, it is OK if your prediction turns out not to be correct."
   ]
  },
  {
   "cell_type": "markdown",
   "metadata": {},
   "source": [
    "**Question** Make a scatterplot that investigates the relationship between each of the four pairs of metrics in the previous question. For each scatter plot, briefly comment on whether it suggests that your prediction is correct or not. (We're not doing any formal tests here, so this evidence will only be suggestive.)"
   ]
  },
  {
   "cell_type": "code",
   "execution_count": null,
   "metadata": {
    "collapsed": false
   },
   "outputs": [],
   "source": [
    "...\n",
    "...\n",
    "...\n",
    "..."
   ]
  },
  {
   "cell_type": "markdown",
   "metadata": {},
   "source": [
    "### Calculating network statistics for the largest components of each community's network"
   ]
  },
  {
   "cell_type": "markdown",
   "metadata": {},
   "source": [
    "At the start of the lab, we reviewed a bunch of quantitative summaries of network structure that can only be applied when the network is *connected*.  Since several of the communities' networks are not connected (i.e., they have more than one component), we can't calculate these metrics on the entire community. Instead, we are going to choose the largest connected component of each community's network."
   ]
  },
  {
   "cell_type": "markdown",
   "metadata": {},
   "source": [
    "**Note: you may want to work with your neighbor on this section**"
   ]
  },
  {
   "cell_type": "markdown",
   "metadata": {},
   "source": [
    "**Question** Fill in the missing part of this function which, when given a `networkx` network object, returns just the biggest component in the network.<BR>\n",
    "*[HINT: we extracted the biggest component of the example network at the start of this lab]*"
   ]
  },
  {
   "cell_type": "code",
   "execution_count": null,
   "metadata": {
    "collapsed": true
   },
   "outputs": [],
   "source": [
    "def get_biggest_component(network):\n",
    "    ...\n",
    "    ..."
   ]
  },
  {
   "cell_type": "markdown",
   "metadata": {},
   "source": [
    "Now we'll use the function we just wrote to make a list that has the biggest component of each community's network:"
   ]
  },
  {
   "cell_type": "code",
   "execution_count": null,
   "metadata": {
    "collapsed": true
   },
   "outputs": [],
   "source": [
    "add_health_biggest_components = [get_biggest_component(g) for g in add_health_networks]"
   ]
  },
  {
   "cell_type": "markdown",
   "metadata": {},
   "source": [
    "**Question** Following the pattern we used above, create a new dataset, called `add_health_lc` (lc stands for 'largest component'). Your dataset should have the following columns:\n",
    "\n",
    "* `num_nodes`\n",
    "* `num_edges`\n",
    "* `avg_degree`\n",
    "* `num_components`\n",
    "* `avg_shortest_path`\n",
    "* `diameter`\n",
    "\n",
    "*[HINT 1: we used the `networkx` package to calculate all of these quantities on the example network at the start of this lab]*<BR>\n",
    "*[HINT 2: calculating all of these quantities on all of the networks takes a while (about 10  minutes). While you are getting the code to work, try using only a handful (say 3) of the networks to make things go faster. Once you are confident that your code works, you can run it on all of the networks. To pick only the first three networks, you can use code like `add_health_biggest_components = add_health_biggest_components[:3]`. Of course, you'll have to remember to re-run the code above to get the list of all of the biggest components once you are ready for it.]*."
   ]
  },
  {
   "cell_type": "code",
   "execution_count": null,
   "metadata": {
    "collapsed": false
   },
   "outputs": [],
   "source": [
    "...\n",
    "...\n",
    "..."
   ]
  },
  {
   "cell_type": "markdown",
   "metadata": {},
   "source": [
    "**Question** Similar to what we did before, think about the definitions of the following pairs of metrics:\n",
    "\n",
    "* number of nodes and average shortest path length - [answer here]\n",
    "* average degree and average shortest path - [answer here]\n",
    "* number of nodes and diameter - [answer here]\n",
    "* average degree and diameter - [answer here]\n",
    "\n",
    "Do you expect them to be related to one another? Make a prediction for each of the pairs.\n",
    "A prediction might be one of the following possibilities: (i) no relationship; (ii) directly related (when one increases, the other one does too); (iii) inverseley related (when one increases, the other one tends to decrease); (iv) something else. \n",
    "\n",
    "Of course, it is OK if your prediction turns out not to be correct."
   ]
  },
  {
   "cell_type": "markdown",
   "metadata": {},
   "source": [
    "**Question** Make a scatterplot that investigates the relationship between each of the four pairs of metrics in the previous question. For each scatter plot, briefly comment on whether it suggests that your prediction is correct or not. (We're not doing any formal tests here, so this evidence will only be suggestive.)"
   ]
  },
  {
   "cell_type": "code",
   "execution_count": null,
   "metadata": {
    "collapsed": false
   },
   "outputs": [],
   "source": [
    "...\n",
    "...\n",
    "...\n",
    "..."
   ]
  },
  {
   "cell_type": "markdown",
   "metadata": {},
   "source": [
    "### Optional challenge section"
   ]
  },
  {
   "cell_type": "markdown",
   "metadata": {},
   "source": [
    "**Challenge Question** The average shortest path length and the number of nodes have a *nonlinear* relationship -- that is, their relationship can't be summarized effectively with a straight line.  Using the pattern below, try to see if you can figure out what kind of transformations of the average shortest path length, or the number of nodes, or both will produce a linear relationship between the two transformed quantities."
   ]
  },
  {
   "cell_type": "code",
   "execution_count": null,
   "metadata": {
    "collapsed": false
   },
   "outputs": [],
   "source": [
    "explore = add_health_lc.with_columns(['sq_num_nodes', (add_health_lc.column('num_nodes')**2)])\n",
    "\n",
    "explore.scatter('sq_num_nodes', 'avg_shortest_path')"
   ]
  },
  {
   "cell_type": "markdown",
   "metadata": {},
   "source": [
    "**Challenge Question** Following the pattern we used above, create a new version of the `add_health_lc` dataset containing all of the metrics we discussed at the start of the lab. Your dataset should have the following columns:\n",
    "\n",
    "* `num_nodes`\n",
    "* `num_edges`\n",
    "* `avg_degree`\n",
    "* `num_components`\n",
    "* `avg_shortest_path`\n",
    "* `diameter`\n",
    "* `radius`\n",
    "* `center_size`\n",
    "* `periphery_size`\n"
   ]
  },
  {
   "cell_type": "code",
   "execution_count": null,
   "metadata": {
    "collapsed": true
   },
   "outputs": [],
   "source": [
    "...\n",
    "...\n",
    "..."
   ]
  },
  {
   "cell_type": "markdown",
   "metadata": {},
   "source": [
    "**Question** Now take `center_size` and `periphery_size` and convert them into fractions of the nodes in the network by dividing by the number of nodes in the network."
   ]
  },
  {
   "cell_type": "code",
   "execution_count": null,
   "metadata": {
    "collapsed": true
   },
   "outputs": [],
   "source": [
    "...\n",
    "..."
   ]
  },
  {
   "cell_type": "markdown",
   "metadata": {},
   "source": [
    "**Question** Explore the relationship between the metrics you just added and the others we have examined. Do they seem to be closely related? Or do you suspect they capture a different aspect of network structure?"
   ]
  },
  {
   "cell_type": "code",
   "execution_count": null,
   "metadata": {
    "collapsed": false
   },
   "outputs": [],
   "source": [
    "..."
   ]
  },
  {
   "cell_type": "markdown",
   "metadata": {},
   "source": [
    "## Submit the lab\n",
    "\n",
    "You're almost done! Now please create a pdf version of your completed lab by **either**:\n",
    "\n",
    "* printing your notebook to a pdf file\n",
    "* going to the Jupyter 'File' menu, choosing 'Download as' and then 'PDF via LaTeX (.pdf)'. \n",
    "\n",
    "Please save the resulting .pdf on your computer and then **submit the .pdf on bcourses**.\n",
    "\n",
    "**The lab must be submitted by the end of the day on Monday, Oct. 3. Late labs will not be accepted.**"
   ]
  }
 ],
 "metadata": {
  "kernelspec": {
   "display_name": "Python 3",
   "language": "python",
   "name": "python3"
  },
  "language_info": {
   "codemirror_mode": {
    "name": "ipython",
    "version": 3
   },
   "file_extension": ".py",
   "mimetype": "text/x-python",
   "name": "python",
   "nbconvert_exporter": "python",
   "pygments_lexer": "ipython3",
   "version": "3.5.2"
  }
 },
 "nbformat": 4,
 "nbformat_minor": 1
}
